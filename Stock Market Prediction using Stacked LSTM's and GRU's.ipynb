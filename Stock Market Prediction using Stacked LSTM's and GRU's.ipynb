{
 "cells": [
  {
   "cell_type": "markdown",
   "metadata": {},
   "source": [
    "# Step 1: Fetching the Data from Nsepy Library\n",
    "# Step 2 : Using Ta-lib Create 3 new columns containing EMA, ADX and RSI\n",
    "# Step 3: Split the Data into Train and Test\n",
    "# Step 4: Now Split the data into X_train , X_test and Y_train , Y_test by keep time step as 14\n",
    "# Step 5: Doing the Training  and Testing using LSTM, BI-LSTM , GRU and BI-GRU\n",
    "# Step 6: Predicting the prices using the new data"
   ]
  },
  {
   "cell_type": "markdown",
   "metadata": {},
   "source": [
    "IMPORTING ALL THE NECESSARY PACKAGES REQUIRED TO BUILD THE MODEL"
   ]
  },
  {
   "cell_type": "code",
   "execution_count": 1,
   "metadata": {
    "scrolled": true
   },
   "outputs": [
    {
     "name": "stdout",
     "output_type": "stream",
     "text": [
      "Wall time: 1.48 s\n"
     ]
    }
   ],
   "source": [
    "from nsepy import get_history\n",
    "from datetime import date"
   ]
  },
  {
   "cell_type": "code",
   "execution_count": 372,
   "metadata": {
    "scrolled": true
   },
   "outputs": [],
   "source": [
    "#Importing the dependencies\n",
    "from nsepy import get_history\n",
    "from datetime import date\n",
    "import numpy as np\n",
    "from tensorflow.keras.models import Sequential, Model\n",
    "from tensorflow.keras.layers import *\n",
    "import pandas as pd\n",
    "from matplotlib import pyplot as plt\n",
    "from sklearn.preprocessing import StandardScaler\n",
    "import seaborn as sns\n",
    "import talib as tl\n",
    "from talib import EMA , ADX\n",
    "from sklearn.metrics import mean_squared_error\n",
    "import math\n",
    "from sklearn.metrics import mean_absolute_error,mean_absolute_percentage_error,explained_variance_score"
   ]
  },
  {
   "cell_type": "code",
   "execution_count": 3,
   "metadata": {
    "scrolled": true
   },
   "outputs": [],
   "source": [
    "#Retrieving The Data \n",
    "\n",
    "ril_data =  get_history(symbol=\"RELIANCE\",\n",
    "                            start=date(2007,1,1),\n",
    "                            end=date(2021,5,1))"
   ]
  },
  {
   "cell_type": "code",
   "execution_count": 4,
   "metadata": {
    "scrolled": true
   },
   "outputs": [
    {
     "data": {
      "text/plain": [
       "'power = yf.Ticker(\"TATASTEEL.NS\")\\ndf = power.history(start=\"2015-01-01\", end=\\'2021-04-21\\')\\ndf.head()'"
      ]
     },
     "execution_count": 4,
     "metadata": {},
     "output_type": "execute_result"
    }
   ],
   "source": [
    "'''power = yf.Ticker(\"TATASTEEL.NS\")\n",
    "df = power.history(start=\"2015-01-01\", end='2021-04-21')\n",
    "df.head()'''"
   ]
  },
  {
   "cell_type": "code",
   "execution_count": 5,
   "metadata": {
    "scrolled": true
   },
   "outputs": [],
   "source": [
    "#df.tail()"
   ]
  },
  {
   "cell_type": "code",
   "execution_count": 6,
   "metadata": {
    "scrolled": true
   },
   "outputs": [
    {
     "data": {
      "text/html": [
       "<div>\n",
       "<style scoped>\n",
       "    .dataframe tbody tr th:only-of-type {\n",
       "        vertical-align: middle;\n",
       "    }\n",
       "\n",
       "    .dataframe tbody tr th {\n",
       "        vertical-align: top;\n",
       "    }\n",
       "\n",
       "    .dataframe thead th {\n",
       "        text-align: right;\n",
       "    }\n",
       "</style>\n",
       "<table border=\"1\" class=\"dataframe\">\n",
       "  <thead>\n",
       "    <tr style=\"text-align: right;\">\n",
       "      <th></th>\n",
       "      <th>Symbol</th>\n",
       "      <th>Series</th>\n",
       "      <th>Prev Close</th>\n",
       "      <th>Open</th>\n",
       "      <th>High</th>\n",
       "      <th>Low</th>\n",
       "      <th>Last</th>\n",
       "      <th>Close</th>\n",
       "      <th>VWAP</th>\n",
       "      <th>Volume</th>\n",
       "      <th>Turnover</th>\n",
       "      <th>Trades</th>\n",
       "      <th>Deliverable Volume</th>\n",
       "      <th>%Deliverble</th>\n",
       "    </tr>\n",
       "    <tr>\n",
       "      <th>Date</th>\n",
       "      <th></th>\n",
       "      <th></th>\n",
       "      <th></th>\n",
       "      <th></th>\n",
       "      <th></th>\n",
       "      <th></th>\n",
       "      <th></th>\n",
       "      <th></th>\n",
       "      <th></th>\n",
       "      <th></th>\n",
       "      <th></th>\n",
       "      <th></th>\n",
       "      <th></th>\n",
       "      <th></th>\n",
       "    </tr>\n",
       "  </thead>\n",
       "  <tbody>\n",
       "    <tr>\n",
       "      <th>2007-01-02</th>\n",
       "      <td>RELIANCE</td>\n",
       "      <td>EQ</td>\n",
       "      <td>1270.15</td>\n",
       "      <td>1275.0</td>\n",
       "      <td>1285.8</td>\n",
       "      <td>1270.30</td>\n",
       "      <td>1283.75</td>\n",
       "      <td>1280.90</td>\n",
       "      <td>1279.56</td>\n",
       "      <td>1149902</td>\n",
       "      <td>1.471373e+14</td>\n",
       "      <td>NaN</td>\n",
       "      <td>659158</td>\n",
       "      <td>0.5732</td>\n",
       "    </tr>\n",
       "    <tr>\n",
       "      <th>2007-01-03</th>\n",
       "      <td>RELIANCE</td>\n",
       "      <td>EQ</td>\n",
       "      <td>1280.90</td>\n",
       "      <td>1285.0</td>\n",
       "      <td>1290.9</td>\n",
       "      <td>1275.35</td>\n",
       "      <td>1286.00</td>\n",
       "      <td>1284.55</td>\n",
       "      <td>1284.00</td>\n",
       "      <td>1489730</td>\n",
       "      <td>1.912809e+14</td>\n",
       "      <td>NaN</td>\n",
       "      <td>713956</td>\n",
       "      <td>0.4793</td>\n",
       "    </tr>\n",
       "    <tr>\n",
       "      <th>2007-01-04</th>\n",
       "      <td>RELIANCE</td>\n",
       "      <td>EQ</td>\n",
       "      <td>1284.55</td>\n",
       "      <td>1290.0</td>\n",
       "      <td>1300.0</td>\n",
       "      <td>1277.00</td>\n",
       "      <td>1280.00</td>\n",
       "      <td>1280.50</td>\n",
       "      <td>1284.95</td>\n",
       "      <td>3022423</td>\n",
       "      <td>3.883671e+14</td>\n",
       "      <td>NaN</td>\n",
       "      <td>1442019</td>\n",
       "      <td>0.4771</td>\n",
       "    </tr>\n",
       "    <tr>\n",
       "      <th>2007-01-05</th>\n",
       "      <td>RELIANCE</td>\n",
       "      <td>EQ</td>\n",
       "      <td>1280.50</td>\n",
       "      <td>1275.0</td>\n",
       "      <td>1312.0</td>\n",
       "      <td>1275.00</td>\n",
       "      <td>1289.00</td>\n",
       "      <td>1288.15</td>\n",
       "      <td>1296.98</td>\n",
       "      <td>3047126</td>\n",
       "      <td>3.952073e+14</td>\n",
       "      <td>NaN</td>\n",
       "      <td>1184396</td>\n",
       "      <td>0.3887</td>\n",
       "    </tr>\n",
       "    <tr>\n",
       "      <th>2007-01-08</th>\n",
       "      <td>RELIANCE</td>\n",
       "      <td>EQ</td>\n",
       "      <td>1288.15</td>\n",
       "      <td>1294.0</td>\n",
       "      <td>1294.0</td>\n",
       "      <td>1266.60</td>\n",
       "      <td>1275.00</td>\n",
       "      <td>1276.85</td>\n",
       "      <td>1276.26</td>\n",
       "      <td>2191355</td>\n",
       "      <td>2.796739e+14</td>\n",
       "      <td>NaN</td>\n",
       "      <td>1091486</td>\n",
       "      <td>0.4981</td>\n",
       "    </tr>\n",
       "  </tbody>\n",
       "</table>\n",
       "</div>"
      ],
      "text/plain": [
       "              Symbol Series  Prev Close    Open    High      Low     Last  \\\n",
       "Date                                                                        \n",
       "2007-01-02  RELIANCE     EQ     1270.15  1275.0  1285.8  1270.30  1283.75   \n",
       "2007-01-03  RELIANCE     EQ     1280.90  1285.0  1290.9  1275.35  1286.00   \n",
       "2007-01-04  RELIANCE     EQ     1284.55  1290.0  1300.0  1277.00  1280.00   \n",
       "2007-01-05  RELIANCE     EQ     1280.50  1275.0  1312.0  1275.00  1289.00   \n",
       "2007-01-08  RELIANCE     EQ     1288.15  1294.0  1294.0  1266.60  1275.00   \n",
       "\n",
       "              Close     VWAP   Volume      Turnover  Trades  \\\n",
       "Date                                                          \n",
       "2007-01-02  1280.90  1279.56  1149902  1.471373e+14     NaN   \n",
       "2007-01-03  1284.55  1284.00  1489730  1.912809e+14     NaN   \n",
       "2007-01-04  1280.50  1284.95  3022423  3.883671e+14     NaN   \n",
       "2007-01-05  1288.15  1296.98  3047126  3.952073e+14     NaN   \n",
       "2007-01-08  1276.85  1276.26  2191355  2.796739e+14     NaN   \n",
       "\n",
       "            Deliverable Volume  %Deliverble  \n",
       "Date                                         \n",
       "2007-01-02              659158       0.5732  \n",
       "2007-01-03              713956       0.4793  \n",
       "2007-01-04             1442019       0.4771  \n",
       "2007-01-05             1184396       0.3887  \n",
       "2007-01-08             1091486       0.4981  "
      ]
     },
     "execution_count": 6,
     "metadata": {},
     "output_type": "execute_result"
    }
   ],
   "source": [
    "#Checking the data\n",
    "\n",
    "ril_data.head()"
   ]
  },
  {
   "cell_type": "code",
   "execution_count": 7,
   "metadata": {
    "scrolled": true
   },
   "outputs": [
    {
     "data": {
      "text/html": [
       "<div>\n",
       "<style scoped>\n",
       "    .dataframe tbody tr th:only-of-type {\n",
       "        vertical-align: middle;\n",
       "    }\n",
       "\n",
       "    .dataframe tbody tr th {\n",
       "        vertical-align: top;\n",
       "    }\n",
       "\n",
       "    .dataframe thead th {\n",
       "        text-align: right;\n",
       "    }\n",
       "</style>\n",
       "<table border=\"1\" class=\"dataframe\">\n",
       "  <thead>\n",
       "    <tr style=\"text-align: right;\">\n",
       "      <th></th>\n",
       "      <th>Symbol</th>\n",
       "      <th>Series</th>\n",
       "      <th>Prev Close</th>\n",
       "      <th>Open</th>\n",
       "      <th>High</th>\n",
       "      <th>Low</th>\n",
       "      <th>Last</th>\n",
       "      <th>Close</th>\n",
       "      <th>VWAP</th>\n",
       "      <th>Volume</th>\n",
       "      <th>Turnover</th>\n",
       "      <th>Trades</th>\n",
       "      <th>Deliverable Volume</th>\n",
       "      <th>%Deliverble</th>\n",
       "    </tr>\n",
       "    <tr>\n",
       "      <th>Date</th>\n",
       "      <th></th>\n",
       "      <th></th>\n",
       "      <th></th>\n",
       "      <th></th>\n",
       "      <th></th>\n",
       "      <th></th>\n",
       "      <th></th>\n",
       "      <th></th>\n",
       "      <th></th>\n",
       "      <th></th>\n",
       "      <th></th>\n",
       "      <th></th>\n",
       "      <th></th>\n",
       "      <th></th>\n",
       "    </tr>\n",
       "  </thead>\n",
       "  <tbody>\n",
       "    <tr>\n",
       "      <th>2021-04-22</th>\n",
       "      <td>RELIANCE</td>\n",
       "      <td>EQ</td>\n",
       "      <td>1901.15</td>\n",
       "      <td>1892.25</td>\n",
       "      <td>1914.45</td>\n",
       "      <td>1876.70</td>\n",
       "      <td>1905.10</td>\n",
       "      <td>1906.40</td>\n",
       "      <td>1898.59</td>\n",
       "      <td>6687573</td>\n",
       "      <td>1.269695e+15</td>\n",
       "      <td>209895.0</td>\n",
       "      <td>3155063</td>\n",
       "      <td>0.4718</td>\n",
       "    </tr>\n",
       "    <tr>\n",
       "      <th>2021-04-23</th>\n",
       "      <td>RELIANCE</td>\n",
       "      <td>EQ</td>\n",
       "      <td>1906.40</td>\n",
       "      <td>1906.00</td>\n",
       "      <td>1918.90</td>\n",
       "      <td>1895.35</td>\n",
       "      <td>1903.35</td>\n",
       "      <td>1904.35</td>\n",
       "      <td>1907.47</td>\n",
       "      <td>5459016</td>\n",
       "      <td>1.041289e+15</td>\n",
       "      <td>171621.0</td>\n",
       "      <td>2589266</td>\n",
       "      <td>0.4743</td>\n",
       "    </tr>\n",
       "    <tr>\n",
       "      <th>2021-04-26</th>\n",
       "      <td>RELIANCE</td>\n",
       "      <td>EQ</td>\n",
       "      <td>1904.35</td>\n",
       "      <td>1920.00</td>\n",
       "      <td>1962.00</td>\n",
       "      <td>1911.50</td>\n",
       "      <td>1938.00</td>\n",
       "      <td>1937.85</td>\n",
       "      <td>1941.32</td>\n",
       "      <td>9620785</td>\n",
       "      <td>1.867699e+15</td>\n",
       "      <td>259137.0</td>\n",
       "      <td>4276703</td>\n",
       "      <td>0.4445</td>\n",
       "    </tr>\n",
       "    <tr>\n",
       "      <th>2021-04-27</th>\n",
       "      <td>RELIANCE</td>\n",
       "      <td>EQ</td>\n",
       "      <td>1937.85</td>\n",
       "      <td>1940.00</td>\n",
       "      <td>1997.20</td>\n",
       "      <td>1938.25</td>\n",
       "      <td>1990.00</td>\n",
       "      <td>1988.65</td>\n",
       "      <td>1978.64</td>\n",
       "      <td>9226547</td>\n",
       "      <td>1.825602e+15</td>\n",
       "      <td>291197.0</td>\n",
       "      <td>3772144</td>\n",
       "      <td>0.4088</td>\n",
       "    </tr>\n",
       "    <tr>\n",
       "      <th>2021-04-28</th>\n",
       "      <td>RELIANCE</td>\n",
       "      <td>EQ</td>\n",
       "      <td>1988.65</td>\n",
       "      <td>1997.85</td>\n",
       "      <td>2008.00</td>\n",
       "      <td>1980.15</td>\n",
       "      <td>1993.15</td>\n",
       "      <td>1997.30</td>\n",
       "      <td>1997.60</td>\n",
       "      <td>7902002</td>\n",
       "      <td>1.578508e+15</td>\n",
       "      <td>247331.0</td>\n",
       "      <td>3921560</td>\n",
       "      <td>0.4963</td>\n",
       "    </tr>\n",
       "    <tr>\n",
       "      <th>2021-04-29</th>\n",
       "      <td>RELIANCE</td>\n",
       "      <td>EQ</td>\n",
       "      <td>1997.30</td>\n",
       "      <td>2022.90</td>\n",
       "      <td>2044.50</td>\n",
       "      <td>2007.30</td>\n",
       "      <td>2020.00</td>\n",
       "      <td>2024.05</td>\n",
       "      <td>2024.21</td>\n",
       "      <td>8035915</td>\n",
       "      <td>1.626634e+15</td>\n",
       "      <td>213153.0</td>\n",
       "      <td>2834103</td>\n",
       "      <td>0.3527</td>\n",
       "    </tr>\n",
       "    <tr>\n",
       "      <th>2021-04-30</th>\n",
       "      <td>RELIANCE</td>\n",
       "      <td>EQ</td>\n",
       "      <td>2024.05</td>\n",
       "      <td>2008.50</td>\n",
       "      <td>2036.00</td>\n",
       "      <td>1987.55</td>\n",
       "      <td>1995.90</td>\n",
       "      <td>1994.50</td>\n",
       "      <td>2010.20</td>\n",
       "      <td>9150974</td>\n",
       "      <td>1.839532e+15</td>\n",
       "      <td>288687.0</td>\n",
       "      <td>3902504</td>\n",
       "      <td>0.4265</td>\n",
       "    </tr>\n",
       "  </tbody>\n",
       "</table>\n",
       "</div>"
      ],
      "text/plain": [
       "              Symbol Series  Prev Close     Open     High      Low     Last  \\\n",
       "Date                                                                          \n",
       "2021-04-22  RELIANCE     EQ     1901.15  1892.25  1914.45  1876.70  1905.10   \n",
       "2021-04-23  RELIANCE     EQ     1906.40  1906.00  1918.90  1895.35  1903.35   \n",
       "2021-04-26  RELIANCE     EQ     1904.35  1920.00  1962.00  1911.50  1938.00   \n",
       "2021-04-27  RELIANCE     EQ     1937.85  1940.00  1997.20  1938.25  1990.00   \n",
       "2021-04-28  RELIANCE     EQ     1988.65  1997.85  2008.00  1980.15  1993.15   \n",
       "2021-04-29  RELIANCE     EQ     1997.30  2022.90  2044.50  2007.30  2020.00   \n",
       "2021-04-30  RELIANCE     EQ     2024.05  2008.50  2036.00  1987.55  1995.90   \n",
       "\n",
       "              Close     VWAP   Volume      Turnover    Trades  \\\n",
       "Date                                                            \n",
       "2021-04-22  1906.40  1898.59  6687573  1.269695e+15  209895.0   \n",
       "2021-04-23  1904.35  1907.47  5459016  1.041289e+15  171621.0   \n",
       "2021-04-26  1937.85  1941.32  9620785  1.867699e+15  259137.0   \n",
       "2021-04-27  1988.65  1978.64  9226547  1.825602e+15  291197.0   \n",
       "2021-04-28  1997.30  1997.60  7902002  1.578508e+15  247331.0   \n",
       "2021-04-29  2024.05  2024.21  8035915  1.626634e+15  213153.0   \n",
       "2021-04-30  1994.50  2010.20  9150974  1.839532e+15  288687.0   \n",
       "\n",
       "            Deliverable Volume  %Deliverble  \n",
       "Date                                         \n",
       "2021-04-22             3155063       0.4718  \n",
       "2021-04-23             2589266       0.4743  \n",
       "2021-04-26             4276703       0.4445  \n",
       "2021-04-27             3772144       0.4088  \n",
       "2021-04-28             3921560       0.4963  \n",
       "2021-04-29             2834103       0.3527  \n",
       "2021-04-30             3902504       0.4265  "
      ]
     },
     "execution_count": 7,
     "metadata": {},
     "output_type": "execute_result"
    }
   ],
   "source": [
    "ril_data.tail(7)"
   ]
  },
  {
   "cell_type": "code",
   "execution_count": 8,
   "metadata": {
    "scrolled": true
   },
   "outputs": [
    {
     "data": {
      "text/html": [
       "<div>\n",
       "<style scoped>\n",
       "    .dataframe tbody tr th:only-of-type {\n",
       "        vertical-align: middle;\n",
       "    }\n",
       "\n",
       "    .dataframe tbody tr th {\n",
       "        vertical-align: top;\n",
       "    }\n",
       "\n",
       "    .dataframe thead th {\n",
       "        text-align: right;\n",
       "    }\n",
       "</style>\n",
       "<table border=\"1\" class=\"dataframe\">\n",
       "  <thead>\n",
       "    <tr style=\"text-align: right;\">\n",
       "      <th></th>\n",
       "      <th>Prev Close</th>\n",
       "      <th>Open</th>\n",
       "      <th>High</th>\n",
       "      <th>Low</th>\n",
       "      <th>Last</th>\n",
       "      <th>Close</th>\n",
       "      <th>VWAP</th>\n",
       "      <th>Volume</th>\n",
       "      <th>Turnover</th>\n",
       "      <th>Trades</th>\n",
       "      <th>Deliverable Volume</th>\n",
       "      <th>%Deliverble</th>\n",
       "    </tr>\n",
       "  </thead>\n",
       "  <tbody>\n",
       "    <tr>\n",
       "      <th>count</th>\n",
       "      <td>3551.000000</td>\n",
       "      <td>3551.000000</td>\n",
       "      <td>3551.000000</td>\n",
       "      <td>3551.000000</td>\n",
       "      <td>3551.000000</td>\n",
       "      <td>3551.000000</td>\n",
       "      <td>3551.000000</td>\n",
       "      <td>3.551000e+03</td>\n",
       "      <td>3.551000e+03</td>\n",
       "      <td>2.458000e+03</td>\n",
       "      <td>3.551000e+03</td>\n",
       "      <td>3551.000000</td>\n",
       "    </tr>\n",
       "    <tr>\n",
       "      <th>mean</th>\n",
       "      <td>1265.575965</td>\n",
       "      <td>1267.518924</td>\n",
       "      <td>1284.900099</td>\n",
       "      <td>1247.941692</td>\n",
       "      <td>1265.584976</td>\n",
       "      <td>1265.780090</td>\n",
       "      <td>1266.473565</td>\n",
       "      <td>5.705848e+06</td>\n",
       "      <td>7.740889e+14</td>\n",
       "      <td>1.452021e+05</td>\n",
       "      <td>2.529077e+06</td>\n",
       "      <td>0.482343</td>\n",
       "    </tr>\n",
       "    <tr>\n",
       "      <th>std</th>\n",
       "      <td>508.063718</td>\n",
       "      <td>510.137753</td>\n",
       "      <td>520.243340</td>\n",
       "      <td>496.894788</td>\n",
       "      <td>508.079952</td>\n",
       "      <td>508.211722</td>\n",
       "      <td>508.396091</td>\n",
       "      <td>5.427826e+06</td>\n",
       "      <td>9.648334e+14</td>\n",
       "      <td>1.297170e+05</td>\n",
       "      <td>1.966351e+06</td>\n",
       "      <td>0.123845</td>\n",
       "    </tr>\n",
       "    <tr>\n",
       "      <th>min</th>\n",
       "      <td>676.100000</td>\n",
       "      <td>675.000000</td>\n",
       "      <td>682.800000</td>\n",
       "      <td>673.050000</td>\n",
       "      <td>676.150000</td>\n",
       "      <td>676.100000</td>\n",
       "      <td>676.940000</td>\n",
       "      <td>5.282000e+04</td>\n",
       "      <td>9.037442e+12</td>\n",
       "      <td>2.991000e+03</td>\n",
       "      <td>2.909700e+04</td>\n",
       "      <td>0.103900</td>\n",
       "    </tr>\n",
       "    <tr>\n",
       "      <th>25%</th>\n",
       "      <td>906.725000</td>\n",
       "      <td>907.000000</td>\n",
       "      <td>916.550000</td>\n",
       "      <td>895.350000</td>\n",
       "      <td>906.525000</td>\n",
       "      <td>906.725000</td>\n",
       "      <td>905.475000</td>\n",
       "      <td>2.824650e+06</td>\n",
       "      <td>2.889533e+14</td>\n",
       "      <td>7.214700e+04</td>\n",
       "      <td>1.358051e+06</td>\n",
       "      <td>0.399350</td>\n",
       "    </tr>\n",
       "    <tr>\n",
       "      <th>50%</th>\n",
       "      <td>1046.500000</td>\n",
       "      <td>1046.900000</td>\n",
       "      <td>1059.350000</td>\n",
       "      <td>1033.250000</td>\n",
       "      <td>1047.250000</td>\n",
       "      <td>1046.500000</td>\n",
       "      <td>1047.520000</td>\n",
       "      <td>4.087936e+06</td>\n",
       "      <td>4.714479e+14</td>\n",
       "      <td>1.021435e+05</td>\n",
       "      <td>2.025707e+06</td>\n",
       "      <td>0.495000</td>\n",
       "    </tr>\n",
       "    <tr>\n",
       "      <th>75%</th>\n",
       "      <td>1458.900000</td>\n",
       "      <td>1456.575000</td>\n",
       "      <td>1478.375000</td>\n",
       "      <td>1441.150000</td>\n",
       "      <td>1460.350000</td>\n",
       "      <td>1459.300000</td>\n",
       "      <td>1461.760000</td>\n",
       "      <td>6.517919e+06</td>\n",
       "      <td>8.722020e+14</td>\n",
       "      <td>1.685950e+05</td>\n",
       "      <td>3.030442e+06</td>\n",
       "      <td>0.571500</td>\n",
       "    </tr>\n",
       "    <tr>\n",
       "      <th>max</th>\n",
       "      <td>3220.850000</td>\n",
       "      <td>3298.000000</td>\n",
       "      <td>3298.000000</td>\n",
       "      <td>3141.300000</td>\n",
       "      <td>3223.000000</td>\n",
       "      <td>3220.850000</td>\n",
       "      <td>3197.750000</td>\n",
       "      <td>6.523089e+07</td>\n",
       "      <td>1.473434e+16</td>\n",
       "      <td>1.428490e+06</td>\n",
       "      <td>3.495888e+07</td>\n",
       "      <td>0.978300</td>\n",
       "    </tr>\n",
       "  </tbody>\n",
       "</table>\n",
       "</div>"
      ],
      "text/plain": [
       "        Prev Close         Open         High          Low         Last  \\\n",
       "count  3551.000000  3551.000000  3551.000000  3551.000000  3551.000000   \n",
       "mean   1265.575965  1267.518924  1284.900099  1247.941692  1265.584976   \n",
       "std     508.063718   510.137753   520.243340   496.894788   508.079952   \n",
       "min     676.100000   675.000000   682.800000   673.050000   676.150000   \n",
       "25%     906.725000   907.000000   916.550000   895.350000   906.525000   \n",
       "50%    1046.500000  1046.900000  1059.350000  1033.250000  1047.250000   \n",
       "75%    1458.900000  1456.575000  1478.375000  1441.150000  1460.350000   \n",
       "max    3220.850000  3298.000000  3298.000000  3141.300000  3223.000000   \n",
       "\n",
       "             Close         VWAP        Volume      Turnover        Trades  \\\n",
       "count  3551.000000  3551.000000  3.551000e+03  3.551000e+03  2.458000e+03   \n",
       "mean   1265.780090  1266.473565  5.705848e+06  7.740889e+14  1.452021e+05   \n",
       "std     508.211722   508.396091  5.427826e+06  9.648334e+14  1.297170e+05   \n",
       "min     676.100000   676.940000  5.282000e+04  9.037442e+12  2.991000e+03   \n",
       "25%     906.725000   905.475000  2.824650e+06  2.889533e+14  7.214700e+04   \n",
       "50%    1046.500000  1047.520000  4.087936e+06  4.714479e+14  1.021435e+05   \n",
       "75%    1459.300000  1461.760000  6.517919e+06  8.722020e+14  1.685950e+05   \n",
       "max    3220.850000  3197.750000  6.523089e+07  1.473434e+16  1.428490e+06   \n",
       "\n",
       "       Deliverable Volume  %Deliverble  \n",
       "count        3.551000e+03  3551.000000  \n",
       "mean         2.529077e+06     0.482343  \n",
       "std          1.966351e+06     0.123845  \n",
       "min          2.909700e+04     0.103900  \n",
       "25%          1.358051e+06     0.399350  \n",
       "50%          2.025707e+06     0.495000  \n",
       "75%          3.030442e+06     0.571500  \n",
       "max          3.495888e+07     0.978300  "
      ]
     },
     "execution_count": 8,
     "metadata": {},
     "output_type": "execute_result"
    }
   ],
   "source": [
    "ril_data.describe()"
   ]
  },
  {
   "cell_type": "code",
   "execution_count": 9,
   "metadata": {
    "scrolled": true
   },
   "outputs": [],
   "source": [
    "#setting index as date\n",
    "ril_data.insert(0, 'Date',  pd.to_datetime(ril_data.index,format='%Y-%m-%d') )"
   ]
  },
  {
   "cell_type": "code",
   "execution_count": 10,
   "metadata": {
    "scrolled": true
   },
   "outputs": [
    {
     "data": {
      "text/plain": [
       "(3551, 15)"
      ]
     },
     "execution_count": 10,
     "metadata": {},
     "output_type": "execute_result"
    }
   ],
   "source": [
    "ril_data.shape"
   ]
  },
  {
   "cell_type": "code",
   "execution_count": 11,
   "metadata": {
    "scrolled": true
   },
   "outputs": [
    {
     "data": {
      "text/html": [
       "<div>\n",
       "<style scoped>\n",
       "    .dataframe tbody tr th:only-of-type {\n",
       "        vertical-align: middle;\n",
       "    }\n",
       "\n",
       "    .dataframe tbody tr th {\n",
       "        vertical-align: top;\n",
       "    }\n",
       "\n",
       "    .dataframe thead th {\n",
       "        text-align: right;\n",
       "    }\n",
       "</style>\n",
       "<table border=\"1\" class=\"dataframe\">\n",
       "  <thead>\n",
       "    <tr style=\"text-align: right;\">\n",
       "      <th></th>\n",
       "      <th>Date</th>\n",
       "      <th>Symbol</th>\n",
       "      <th>Series</th>\n",
       "      <th>Prev Close</th>\n",
       "      <th>Open</th>\n",
       "      <th>High</th>\n",
       "      <th>Low</th>\n",
       "      <th>Last</th>\n",
       "      <th>Close</th>\n",
       "      <th>VWAP</th>\n",
       "      <th>Volume</th>\n",
       "      <th>Turnover</th>\n",
       "      <th>Trades</th>\n",
       "      <th>Deliverable Volume</th>\n",
       "      <th>%Deliverble</th>\n",
       "    </tr>\n",
       "    <tr>\n",
       "      <th>Date</th>\n",
       "      <th></th>\n",
       "      <th></th>\n",
       "      <th></th>\n",
       "      <th></th>\n",
       "      <th></th>\n",
       "      <th></th>\n",
       "      <th></th>\n",
       "      <th></th>\n",
       "      <th></th>\n",
       "      <th></th>\n",
       "      <th></th>\n",
       "      <th></th>\n",
       "      <th></th>\n",
       "      <th></th>\n",
       "      <th></th>\n",
       "    </tr>\n",
       "  </thead>\n",
       "  <tbody>\n",
       "    <tr>\n",
       "      <th>2007-01-02</th>\n",
       "      <td>2007-01-02</td>\n",
       "      <td>RELIANCE</td>\n",
       "      <td>EQ</td>\n",
       "      <td>1270.15</td>\n",
       "      <td>1275.0</td>\n",
       "      <td>1285.8</td>\n",
       "      <td>1270.30</td>\n",
       "      <td>1283.75</td>\n",
       "      <td>1280.90</td>\n",
       "      <td>1279.56</td>\n",
       "      <td>1149902</td>\n",
       "      <td>1.471373e+14</td>\n",
       "      <td>NaN</td>\n",
       "      <td>659158</td>\n",
       "      <td>0.5732</td>\n",
       "    </tr>\n",
       "    <tr>\n",
       "      <th>2007-01-03</th>\n",
       "      <td>2007-01-03</td>\n",
       "      <td>RELIANCE</td>\n",
       "      <td>EQ</td>\n",
       "      <td>1280.90</td>\n",
       "      <td>1285.0</td>\n",
       "      <td>1290.9</td>\n",
       "      <td>1275.35</td>\n",
       "      <td>1286.00</td>\n",
       "      <td>1284.55</td>\n",
       "      <td>1284.00</td>\n",
       "      <td>1489730</td>\n",
       "      <td>1.912809e+14</td>\n",
       "      <td>NaN</td>\n",
       "      <td>713956</td>\n",
       "      <td>0.4793</td>\n",
       "    </tr>\n",
       "    <tr>\n",
       "      <th>2007-01-04</th>\n",
       "      <td>2007-01-04</td>\n",
       "      <td>RELIANCE</td>\n",
       "      <td>EQ</td>\n",
       "      <td>1284.55</td>\n",
       "      <td>1290.0</td>\n",
       "      <td>1300.0</td>\n",
       "      <td>1277.00</td>\n",
       "      <td>1280.00</td>\n",
       "      <td>1280.50</td>\n",
       "      <td>1284.95</td>\n",
       "      <td>3022423</td>\n",
       "      <td>3.883671e+14</td>\n",
       "      <td>NaN</td>\n",
       "      <td>1442019</td>\n",
       "      <td>0.4771</td>\n",
       "    </tr>\n",
       "    <tr>\n",
       "      <th>2007-01-05</th>\n",
       "      <td>2007-01-05</td>\n",
       "      <td>RELIANCE</td>\n",
       "      <td>EQ</td>\n",
       "      <td>1280.50</td>\n",
       "      <td>1275.0</td>\n",
       "      <td>1312.0</td>\n",
       "      <td>1275.00</td>\n",
       "      <td>1289.00</td>\n",
       "      <td>1288.15</td>\n",
       "      <td>1296.98</td>\n",
       "      <td>3047126</td>\n",
       "      <td>3.952073e+14</td>\n",
       "      <td>NaN</td>\n",
       "      <td>1184396</td>\n",
       "      <td>0.3887</td>\n",
       "    </tr>\n",
       "    <tr>\n",
       "      <th>2007-01-08</th>\n",
       "      <td>2007-01-08</td>\n",
       "      <td>RELIANCE</td>\n",
       "      <td>EQ</td>\n",
       "      <td>1288.15</td>\n",
       "      <td>1294.0</td>\n",
       "      <td>1294.0</td>\n",
       "      <td>1266.60</td>\n",
       "      <td>1275.00</td>\n",
       "      <td>1276.85</td>\n",
       "      <td>1276.26</td>\n",
       "      <td>2191355</td>\n",
       "      <td>2.796739e+14</td>\n",
       "      <td>NaN</td>\n",
       "      <td>1091486</td>\n",
       "      <td>0.4981</td>\n",
       "    </tr>\n",
       "  </tbody>\n",
       "</table>\n",
       "</div>"
      ],
      "text/plain": [
       "                 Date    Symbol Series  Prev Close    Open    High      Low  \\\n",
       "Date                                                                          \n",
       "2007-01-02 2007-01-02  RELIANCE     EQ     1270.15  1275.0  1285.8  1270.30   \n",
       "2007-01-03 2007-01-03  RELIANCE     EQ     1280.90  1285.0  1290.9  1275.35   \n",
       "2007-01-04 2007-01-04  RELIANCE     EQ     1284.55  1290.0  1300.0  1277.00   \n",
       "2007-01-05 2007-01-05  RELIANCE     EQ     1280.50  1275.0  1312.0  1275.00   \n",
       "2007-01-08 2007-01-08  RELIANCE     EQ     1288.15  1294.0  1294.0  1266.60   \n",
       "\n",
       "               Last    Close     VWAP   Volume      Turnover  Trades  \\\n",
       "Date                                                                   \n",
       "2007-01-02  1283.75  1280.90  1279.56  1149902  1.471373e+14     NaN   \n",
       "2007-01-03  1286.00  1284.55  1284.00  1489730  1.912809e+14     NaN   \n",
       "2007-01-04  1280.00  1280.50  1284.95  3022423  3.883671e+14     NaN   \n",
       "2007-01-05  1289.00  1288.15  1296.98  3047126  3.952073e+14     NaN   \n",
       "2007-01-08  1275.00  1276.85  1276.26  2191355  2.796739e+14     NaN   \n",
       "\n",
       "            Deliverable Volume  %Deliverble  \n",
       "Date                                         \n",
       "2007-01-02              659158       0.5732  \n",
       "2007-01-03              713956       0.4793  \n",
       "2007-01-04             1442019       0.4771  \n",
       "2007-01-05             1184396       0.3887  \n",
       "2007-01-08             1091486       0.4981  "
      ]
     },
     "execution_count": 11,
     "metadata": {},
     "output_type": "execute_result"
    }
   ],
   "source": [
    "ril_data.head()"
   ]
  },
  {
   "cell_type": "code",
   "execution_count": 12,
   "metadata": {
    "scrolled": true
   },
   "outputs": [],
   "source": [
    "#ADDING THE 3 INDICATORS EMA, RSI  AND ADX USING THE TIME PERIOD OF 30 DAYS\n",
    "\n",
    "ril_data['EMA_LONG'] = tl.EMA(ril_data['Close'], timeperiod = 30)\n",
    "ril_data['ADX'] = tl.ADX(ril_data['High'],ril_data['Low'], ril_data['Close'], timeperiod=30)\n",
    "ril_data['RSI'] = tl.RSI(ril_data['Close'],30)\n"
   ]
  },
  {
   "cell_type": "code",
   "execution_count": 13,
   "metadata": {
    "scrolled": true
   },
   "outputs": [],
   "source": [
    "ril_data.dropna(inplace = True)"
   ]
  },
  {
   "cell_type": "code",
   "execution_count": 14,
   "metadata": {
    "scrolled": true
   },
   "outputs": [
    {
     "data": {
      "text/plain": [
       "(2458, 18)"
      ]
     },
     "execution_count": 14,
     "metadata": {},
     "output_type": "execute_result"
    }
   ],
   "source": [
    "ril_data.shape"
   ]
  },
  {
   "cell_type": "code",
   "execution_count": 15,
   "metadata": {
    "scrolled": true
   },
   "outputs": [
    {
     "data": {
      "text/html": [
       "<div>\n",
       "<style scoped>\n",
       "    .dataframe tbody tr th:only-of-type {\n",
       "        vertical-align: middle;\n",
       "    }\n",
       "\n",
       "    .dataframe tbody tr th {\n",
       "        vertical-align: top;\n",
       "    }\n",
       "\n",
       "    .dataframe thead th {\n",
       "        text-align: right;\n",
       "    }\n",
       "</style>\n",
       "<table border=\"1\" class=\"dataframe\">\n",
       "  <thead>\n",
       "    <tr style=\"text-align: right;\">\n",
       "      <th></th>\n",
       "      <th>Date</th>\n",
       "      <th>Symbol</th>\n",
       "      <th>Series</th>\n",
       "      <th>Prev Close</th>\n",
       "      <th>Open</th>\n",
       "      <th>High</th>\n",
       "      <th>Low</th>\n",
       "      <th>Last</th>\n",
       "      <th>Close</th>\n",
       "      <th>VWAP</th>\n",
       "      <th>Volume</th>\n",
       "      <th>Turnover</th>\n",
       "      <th>Trades</th>\n",
       "      <th>Deliverable Volume</th>\n",
       "      <th>%Deliverble</th>\n",
       "      <th>EMA_LONG</th>\n",
       "      <th>ADX</th>\n",
       "      <th>RSI</th>\n",
       "    </tr>\n",
       "    <tr>\n",
       "      <th>Date</th>\n",
       "      <th></th>\n",
       "      <th></th>\n",
       "      <th></th>\n",
       "      <th></th>\n",
       "      <th></th>\n",
       "      <th></th>\n",
       "      <th></th>\n",
       "      <th></th>\n",
       "      <th></th>\n",
       "      <th></th>\n",
       "      <th></th>\n",
       "      <th></th>\n",
       "      <th></th>\n",
       "      <th></th>\n",
       "      <th></th>\n",
       "      <th></th>\n",
       "      <th></th>\n",
       "      <th></th>\n",
       "    </tr>\n",
       "  </thead>\n",
       "  <tbody>\n",
       "    <tr>\n",
       "      <th>2011-06-01</th>\n",
       "      <td>2011-06-01</td>\n",
       "      <td>RELIANCE</td>\n",
       "      <td>EQ</td>\n",
       "      <td>951.85</td>\n",
       "      <td>952.00</td>\n",
       "      <td>958.65</td>\n",
       "      <td>943.65</td>\n",
       "      <td>947.5</td>\n",
       "      <td>946.80</td>\n",
       "      <td>947.83</td>\n",
       "      <td>1838452</td>\n",
       "      <td>1.742538e+14</td>\n",
       "      <td>58630.0</td>\n",
       "      <td>901415</td>\n",
       "      <td>0.4903</td>\n",
       "      <td>950.562081</td>\n",
       "      <td>12.689752</td>\n",
       "      <td>46.883281</td>\n",
       "    </tr>\n",
       "    <tr>\n",
       "      <th>2011-06-02</th>\n",
       "      <td>2011-06-02</td>\n",
       "      <td>RELIANCE</td>\n",
       "      <td>EQ</td>\n",
       "      <td>946.80</td>\n",
       "      <td>936.55</td>\n",
       "      <td>954.70</td>\n",
       "      <td>936.55</td>\n",
       "      <td>952.5</td>\n",
       "      <td>951.05</td>\n",
       "      <td>947.09</td>\n",
       "      <td>2152963</td>\n",
       "      <td>2.039039e+14</td>\n",
       "      <td>63061.0</td>\n",
       "      <td>1066759</td>\n",
       "      <td>0.4955</td>\n",
       "      <td>950.593560</td>\n",
       "      <td>12.535313</td>\n",
       "      <td>47.563386</td>\n",
       "    </tr>\n",
       "    <tr>\n",
       "      <th>2011-06-03</th>\n",
       "      <td>2011-06-03</td>\n",
       "      <td>RELIANCE</td>\n",
       "      <td>EQ</td>\n",
       "      <td>951.05</td>\n",
       "      <td>960.50</td>\n",
       "      <td>967.00</td>\n",
       "      <td>931.50</td>\n",
       "      <td>936.0</td>\n",
       "      <td>934.60</td>\n",
       "      <td>951.69</td>\n",
       "      <td>4368279</td>\n",
       "      <td>4.157238e+14</td>\n",
       "      <td>128784.0</td>\n",
       "      <td>1035791</td>\n",
       "      <td>0.2371</td>\n",
       "      <td>949.561717</td>\n",
       "      <td>12.211535</td>\n",
       "      <td>45.243833</td>\n",
       "    </tr>\n",
       "    <tr>\n",
       "      <th>2011-06-06</th>\n",
       "      <td>2011-06-06</td>\n",
       "      <td>RELIANCE</td>\n",
       "      <td>EQ</td>\n",
       "      <td>934.60</td>\n",
       "      <td>934.65</td>\n",
       "      <td>940.80</td>\n",
       "      <td>928.15</td>\n",
       "      <td>938.6</td>\n",
       "      <td>937.75</td>\n",
       "      <td>935.29</td>\n",
       "      <td>1405741</td>\n",
       "      <td>1.314771e+14</td>\n",
       "      <td>43384.0</td>\n",
       "      <td>476631</td>\n",
       "      <td>0.3391</td>\n",
       "      <td>948.799671</td>\n",
       "      <td>11.942167</td>\n",
       "      <td>45.767744</td>\n",
       "    </tr>\n",
       "    <tr>\n",
       "      <th>2011-06-07</th>\n",
       "      <td>2011-06-07</td>\n",
       "      <td>RELIANCE</td>\n",
       "      <td>EQ</td>\n",
       "      <td>937.75</td>\n",
       "      <td>933.55</td>\n",
       "      <td>960.00</td>\n",
       "      <td>933.55</td>\n",
       "      <td>959.6</td>\n",
       "      <td>958.25</td>\n",
       "      <td>950.55</td>\n",
       "      <td>4025919</td>\n",
       "      <td>3.826839e+14</td>\n",
       "      <td>88703.0</td>\n",
       "      <td>2424958</td>\n",
       "      <td>0.6023</td>\n",
       "      <td>949.409370</td>\n",
       "      <td>11.663030</td>\n",
       "      <td>49.049733</td>\n",
       "    </tr>\n",
       "  </tbody>\n",
       "</table>\n",
       "</div>"
      ],
      "text/plain": [
       "                 Date    Symbol Series  Prev Close    Open    High     Low  \\\n",
       "Date                                                                         \n",
       "2011-06-01 2011-06-01  RELIANCE     EQ      951.85  952.00  958.65  943.65   \n",
       "2011-06-02 2011-06-02  RELIANCE     EQ      946.80  936.55  954.70  936.55   \n",
       "2011-06-03 2011-06-03  RELIANCE     EQ      951.05  960.50  967.00  931.50   \n",
       "2011-06-06 2011-06-06  RELIANCE     EQ      934.60  934.65  940.80  928.15   \n",
       "2011-06-07 2011-06-07  RELIANCE     EQ      937.75  933.55  960.00  933.55   \n",
       "\n",
       "             Last   Close    VWAP   Volume      Turnover    Trades  \\\n",
       "Date                                                                 \n",
       "2011-06-01  947.5  946.80  947.83  1838452  1.742538e+14   58630.0   \n",
       "2011-06-02  952.5  951.05  947.09  2152963  2.039039e+14   63061.0   \n",
       "2011-06-03  936.0  934.60  951.69  4368279  4.157238e+14  128784.0   \n",
       "2011-06-06  938.6  937.75  935.29  1405741  1.314771e+14   43384.0   \n",
       "2011-06-07  959.6  958.25  950.55  4025919  3.826839e+14   88703.0   \n",
       "\n",
       "            Deliverable Volume  %Deliverble    EMA_LONG        ADX        RSI  \n",
       "Date                                                                           \n",
       "2011-06-01              901415       0.4903  950.562081  12.689752  46.883281  \n",
       "2011-06-02             1066759       0.4955  950.593560  12.535313  47.563386  \n",
       "2011-06-03             1035791       0.2371  949.561717  12.211535  45.243833  \n",
       "2011-06-06              476631       0.3391  948.799671  11.942167  45.767744  \n",
       "2011-06-07             2424958       0.6023  949.409370  11.663030  49.049733  "
      ]
     },
     "execution_count": 15,
     "metadata": {},
     "output_type": "execute_result"
    }
   ],
   "source": [
    "# DATASET AFTER ADDING THE 3 INDICATORS TO OUR ORIGINAL DATAFRAME\n",
    "ril_data.head()"
   ]
  },
  {
   "cell_type": "code",
   "execution_count": 16,
   "metadata": {},
   "outputs": [
    {
     "data": {
      "image/png": "[encoded data removed]",
      "text/plain": [
       "<Figure size 864x720 with 1 Axes>"
      ]
     },
     "metadata": {
      "needs_background": "light"
     },
     "output_type": "display_data"
    }
   ],
   "source": [
    "ril_data[['High','Low','Close','EMA_LONG']].plot(figsize=(12,10))\n",
    "plt.show()"
   ]
  },
  {
   "cell_type": "code",
   "execution_count": 17,
   "metadata": {
    "scrolled": true
   },
   "outputs": [
    {
     "data": {
      "image/png": "[encoded data removed]",
      "text/plain": [
       "<Figure size 864x720 with 1 Axes>"
      ]
     },
     "metadata": {
      "needs_background": "light"
     },
     "output_type": "display_data"
    }
   ],
   "source": [
    "ril_data[['Close','RSI']].plot(figsize=(12,10))\n",
    "plt.show()"
   ]
  },
  {
   "cell_type": "code",
   "execution_count": 18,
   "metadata": {
    "scrolled": false
   },
   "outputs": [
    {
     "data": {
      "image/png": "[encoded data removed]",
      "text/plain": [
       "<Figure size 864x720 with 1 Axes>"
      ]
     },
     "metadata": {
      "needs_background": "light"
     },
     "output_type": "display_data"
    }
   ],
   "source": [
    "ril_data[['Close','EMA_LONG','ADX','RSI']].plot(figsize=(12,10))\n",
    "plt.show()"
   ]
  },
  {
   "cell_type": "code",
   "execution_count": 19,
   "metadata": {
    "scrolled": false
   },
   "outputs": [
    {
     "data": {
      "image/png": "[encoded data removed]",
      "text/plain": [
       "<Figure size 864x720 with 1 Axes>"
      ]
     },
     "metadata": {
      "needs_background": "light"
     },
     "output_type": "display_data"
    }
   ],
   "source": [
    "ril_data['RSI'].plot(figsize=(12,10))\n",
    "plt.show()"
   ]
  },
  {
   "cell_type": "code",
   "execution_count": 20,
   "metadata": {
    "scrolled": true
   },
   "outputs": [
    {
     "data": {
      "text/plain": [
       "Index(['Date', 'Symbol', 'Series', 'Prev Close', 'Open', 'High', 'Low', 'Last',\n",
       "       'Close', 'VWAP', 'Volume', 'Turnover', 'Trades', 'Deliverable Volume',\n",
       "       '%Deliverble', 'EMA_LONG', 'ADX', 'RSI'],\n",
       "      dtype='object')"
      ]
     },
     "execution_count": 20,
     "metadata": {},
     "output_type": "execute_result"
    }
   ],
   "source": [
    "#CHECKING THE COLUMNS IN THE DATASET\n",
    "cols  = ril_data.columns\n",
    "cols"
   ]
  },
  {
   "cell_type": "code",
   "execution_count": 21,
   "metadata": {
    "scrolled": true
   },
   "outputs": [
    {
     "data": {
      "text/html": [
       "<div>\n",
       "<style scoped>\n",
       "    .dataframe tbody tr th:only-of-type {\n",
       "        vertical-align: middle;\n",
       "    }\n",
       "\n",
       "    .dataframe tbody tr th {\n",
       "        vertical-align: top;\n",
       "    }\n",
       "\n",
       "    .dataframe thead th {\n",
       "        text-align: right;\n",
       "    }\n",
       "</style>\n",
       "<table border=\"1\" class=\"dataframe\">\n",
       "  <thead>\n",
       "    <tr style=\"text-align: right;\">\n",
       "      <th></th>\n",
       "      <th>Date</th>\n",
       "      <th>Symbol</th>\n",
       "      <th>Series</th>\n",
       "      <th>Prev Close</th>\n",
       "      <th>Open</th>\n",
       "      <th>High</th>\n",
       "      <th>Low</th>\n",
       "      <th>Last</th>\n",
       "      <th>Close</th>\n",
       "      <th>VWAP</th>\n",
       "      <th>Volume</th>\n",
       "      <th>Turnover</th>\n",
       "      <th>Trades</th>\n",
       "      <th>Deliverable Volume</th>\n",
       "      <th>%Deliverble</th>\n",
       "      <th>EMA_LONG</th>\n",
       "      <th>ADX</th>\n",
       "      <th>RSI</th>\n",
       "    </tr>\n",
       "    <tr>\n",
       "      <th>Date</th>\n",
       "      <th></th>\n",
       "      <th></th>\n",
       "      <th></th>\n",
       "      <th></th>\n",
       "      <th></th>\n",
       "      <th></th>\n",
       "      <th></th>\n",
       "      <th></th>\n",
       "      <th></th>\n",
       "      <th></th>\n",
       "      <th></th>\n",
       "      <th></th>\n",
       "      <th></th>\n",
       "      <th></th>\n",
       "      <th></th>\n",
       "      <th></th>\n",
       "      <th></th>\n",
       "      <th></th>\n",
       "    </tr>\n",
       "  </thead>\n",
       "  <tbody>\n",
       "    <tr>\n",
       "      <th>2021-04-26</th>\n",
       "      <td>2021-04-26</td>\n",
       "      <td>RELIANCE</td>\n",
       "      <td>EQ</td>\n",
       "      <td>1904.35</td>\n",
       "      <td>1920.00</td>\n",
       "      <td>1962.0</td>\n",
       "      <td>1911.50</td>\n",
       "      <td>1938.00</td>\n",
       "      <td>1937.85</td>\n",
       "      <td>1941.32</td>\n",
       "      <td>9620785</td>\n",
       "      <td>1.867699e+15</td>\n",
       "      <td>259137.0</td>\n",
       "      <td>4276703</td>\n",
       "      <td>0.4445</td>\n",
       "      <td>1984.686093</td>\n",
       "      <td>11.779686</td>\n",
       "      <td>45.489989</td>\n",
       "    </tr>\n",
       "    <tr>\n",
       "      <th>2021-04-27</th>\n",
       "      <td>2021-04-27</td>\n",
       "      <td>RELIANCE</td>\n",
       "      <td>EQ</td>\n",
       "      <td>1937.85</td>\n",
       "      <td>1940.00</td>\n",
       "      <td>1997.2</td>\n",
       "      <td>1938.25</td>\n",
       "      <td>1990.00</td>\n",
       "      <td>1988.65</td>\n",
       "      <td>1978.64</td>\n",
       "      <td>9226547</td>\n",
       "      <td>1.825602e+15</td>\n",
       "      <td>291197.0</td>\n",
       "      <td>3772144</td>\n",
       "      <td>0.4088</td>\n",
       "      <td>1984.941829</td>\n",
       "      <td>11.563375</td>\n",
       "      <td>48.956481</td>\n",
       "    </tr>\n",
       "    <tr>\n",
       "      <th>2021-04-28</th>\n",
       "      <td>2021-04-28</td>\n",
       "      <td>RELIANCE</td>\n",
       "      <td>EQ</td>\n",
       "      <td>1988.65</td>\n",
       "      <td>1997.85</td>\n",
       "      <td>2008.0</td>\n",
       "      <td>1980.15</td>\n",
       "      <td>1993.15</td>\n",
       "      <td>1997.30</td>\n",
       "      <td>1997.60</td>\n",
       "      <td>7902002</td>\n",
       "      <td>1.578508e+15</td>\n",
       "      <td>247331.0</td>\n",
       "      <td>3921560</td>\n",
       "      <td>0.4963</td>\n",
       "      <td>1985.739130</td>\n",
       "      <td>11.298852</td>\n",
       "      <td>49.521929</td>\n",
       "    </tr>\n",
       "    <tr>\n",
       "      <th>2021-04-29</th>\n",
       "      <td>2021-04-29</td>\n",
       "      <td>RELIANCE</td>\n",
       "      <td>EQ</td>\n",
       "      <td>1997.30</td>\n",
       "      <td>2022.90</td>\n",
       "      <td>2044.5</td>\n",
       "      <td>2007.30</td>\n",
       "      <td>2020.00</td>\n",
       "      <td>2024.05</td>\n",
       "      <td>2024.21</td>\n",
       "      <td>8035915</td>\n",
       "      <td>1.626634e+15</td>\n",
       "      <td>213153.0</td>\n",
       "      <td>2834103</td>\n",
       "      <td>0.3527</td>\n",
       "      <td>1988.210799</td>\n",
       "      <td>10.982031</td>\n",
       "      <td>51.249600</td>\n",
       "    </tr>\n",
       "    <tr>\n",
       "      <th>2021-04-30</th>\n",
       "      <td>2021-04-30</td>\n",
       "      <td>RELIANCE</td>\n",
       "      <td>EQ</td>\n",
       "      <td>2024.05</td>\n",
       "      <td>2008.50</td>\n",
       "      <td>2036.0</td>\n",
       "      <td>1987.55</td>\n",
       "      <td>1995.90</td>\n",
       "      <td>1994.50</td>\n",
       "      <td>2010.20</td>\n",
       "      <td>9150974</td>\n",
       "      <td>1.839532e+15</td>\n",
       "      <td>288687.0</td>\n",
       "      <td>3902504</td>\n",
       "      <td>0.4265</td>\n",
       "      <td>1988.616554</td>\n",
       "      <td>10.652703</td>\n",
       "      <td>49.320552</td>\n",
       "    </tr>\n",
       "  </tbody>\n",
       "</table>\n",
       "</div>"
      ],
      "text/plain": [
       "                 Date    Symbol Series  Prev Close     Open    High      Low  \\\n",
       "Date                                                                           \n",
       "2021-04-26 2021-04-26  RELIANCE     EQ     1904.35  1920.00  1962.0  1911.50   \n",
       "2021-04-27 2021-04-27  RELIANCE     EQ     1937.85  1940.00  1997.2  1938.25   \n",
       "2021-04-28 2021-04-28  RELIANCE     EQ     1988.65  1997.85  2008.0  1980.15   \n",
       "2021-04-29 2021-04-29  RELIANCE     EQ     1997.30  2022.90  2044.5  2007.30   \n",
       "2021-04-30 2021-04-30  RELIANCE     EQ     2024.05  2008.50  2036.0  1987.55   \n",
       "\n",
       "               Last    Close     VWAP   Volume      Turnover    Trades  \\\n",
       "Date                                                                     \n",
       "2021-04-26  1938.00  1937.85  1941.32  9620785  1.867699e+15  259137.0   \n",
       "2021-04-27  1990.00  1988.65  1978.64  9226547  1.825602e+15  291197.0   \n",
       "2021-04-28  1993.15  1997.30  1997.60  7902002  1.578508e+15  247331.0   \n",
       "2021-04-29  2020.00  2024.05  2024.21  8035915  1.626634e+15  213153.0   \n",
       "2021-04-30  1995.90  1994.50  2010.20  9150974  1.839532e+15  288687.0   \n",
       "\n",
       "            Deliverable Volume  %Deliverble     EMA_LONG        ADX        RSI  \n",
       "Date                                                                            \n",
       "2021-04-26             4276703       0.4445  1984.686093  11.779686  45.489989  \n",
       "2021-04-27             3772144       0.4088  1984.941829  11.563375  48.956481  \n",
       "2021-04-28             3921560       0.4963  1985.739130  11.298852  49.521929  \n",
       "2021-04-29             2834103       0.3527  1988.210799  10.982031  51.249600  \n",
       "2021-04-30             3902504       0.4265  1988.616554  10.652703  49.320552  "
      ]
     },
     "execution_count": 21,
     "metadata": {},
     "output_type": "execute_result"
    }
   ],
   "source": [
    "ril_data.tail()"
   ]
  },
  {
   "cell_type": "code",
   "execution_count": 22,
   "metadata": {
    "scrolled": true
   },
   "outputs": [],
   "source": [
    "# SEPERATING THE DATES TO USE FOR THE FURTHER PLOTTING AFTER TRAINING \n",
    "\n",
    "train_dates = pd.to_datetime(ril_data['Date'])"
   ]
  },
  {
   "cell_type": "code",
   "execution_count": 23,
   "metadata": {
    "scrolled": true
   },
   "outputs": [],
   "source": [
    "\n",
    "#Variables for training\n",
    "\n",
    "cols = list(ril_data[['Open', 'High', 'Low','EMA_LONG','ADX','RSI','Close']])"
   ]
  },
  {
   "cell_type": "code",
   "execution_count": 24,
   "metadata": {
    "scrolled": true
   },
   "outputs": [
    {
     "data": {
      "text/plain": [
       "['Open', 'High', 'Low', 'EMA_LONG', 'ADX', 'RSI', 'Close']"
      ]
     },
     "execution_count": 24,
     "metadata": {},
     "output_type": "execute_result"
    }
   ],
   "source": [
    "cols"
   ]
  },
  {
   "cell_type": "code",
   "execution_count": 25,
   "metadata": {
    "scrolled": true
   },
   "outputs": [],
   "source": [
    "df_for_training = ril_data[cols].astype(float)"
   ]
  },
  {
   "cell_type": "code",
   "execution_count": 26,
   "metadata": {
    "scrolled": true
   },
   "outputs": [
    {
     "data": {
      "text/plain": [
       "(2458, 7)"
      ]
     },
     "execution_count": 26,
     "metadata": {},
     "output_type": "execute_result"
    }
   ],
   "source": [
    "df_for_training.shape"
   ]
  },
  {
   "cell_type": "code",
   "execution_count": 27,
   "metadata": {
    "scrolled": true
   },
   "outputs": [],
   "source": [
    "# TRANSFORMING OUR DATASET TO A STANDARD SCALER\n",
    "\n",
    "Scaler = StandardScaler()"
   ]
  },
  {
   "cell_type": "code",
   "execution_count": 28,
   "metadata": {
    "scrolled": true
   },
   "outputs": [],
   "source": [
    "Scaler = Scaler.fit(df_for_training)"
   ]
  },
  {
   "cell_type": "code",
   "execution_count": 29,
   "metadata": {
    "scrolled": true
   },
   "outputs": [],
   "source": [
    "df_for_training_scaled = Scaler.transform(df_for_training)"
   ]
  },
  {
   "cell_type": "code",
   "execution_count": 30,
   "metadata": {
    "scrolled": true
   },
   "outputs": [
    {
     "data": {
      "text/plain": [
       "array([[-0.42530566, -0.43710842, -0.41722622, -0.42703165, -0.55003039,\n",
       "        -0.55462726, -0.43813653],\n",
       "       [-0.46820437, -0.44794738, -0.43724467, -0.42694047, -0.57174319,\n",
       "        -0.47152494, -0.4263    ],\n",
       "       [-0.40170443, -0.41419566, -0.45148314, -0.42992916, -0.61726363,\n",
       "        -0.75495216, -0.47211435],\n",
       "       [-0.47347994, -0.48608958, -0.46092846, -0.4321364 , -0.65513455,\n",
       "        -0.6909353 , -0.46334139],\n",
       "       [-0.47653422, -0.43340396, -0.44570317, -0.43037043, -0.69437882,\n",
       "        -0.2899076 , -0.40624752],\n",
       "       [-0.41628166, -0.44451733, -0.41638037, -0.43040956, -0.73231494,\n",
       "        -0.45109512, -0.43145237],\n",
       "       [-0.43780043, -0.43930365, -0.4077809 , -0.42954919, -0.76547577,\n",
       "        -0.35822058, -0.41808405],\n",
       "       [-0.41669816, -0.44438013, -0.44993241, -0.43051958, -0.8089205 ,\n",
       "        -0.52952612, -0.44454219],\n",
       "       [-0.44960105, -0.47936667, -0.48108788, -0.43495918, -0.83091749,\n",
       "        -0.85266512, -0.49717994]])"
      ]
     },
     "execution_count": 30,
     "metadata": {},
     "output_type": "execute_result"
    }
   ],
   "source": [
    "df_for_training_scaled[0:9]"
   ]
  },
  {
   "cell_type": "code",
   "execution_count": 31,
   "metadata": {
    "scrolled": true
   },
   "outputs": [
    {
     "data": {
      "text/plain": [
       "2458"
      ]
     },
     "execution_count": 31,
     "metadata": {},
     "output_type": "execute_result"
    }
   ],
   "source": [
    "len(df_for_training_scaled)"
   ]
  },
  {
   "cell_type": "code",
   "execution_count": 32,
   "metadata": {
    "scrolled": true
   },
   "outputs": [],
   "source": [
    "x_train = []\n",
    "y_train = []"
   ]
  },
  {
   "cell_type": "code",
   "execution_count": 33,
   "metadata": {
    "scrolled": true
   },
   "outputs": [],
   "source": [
    "training_size = int(len(df_for_training_scaled)*0.95)\n",
    "test_size = len(df_for_training_scaled)-training_size\n",
    "train_data,test_data=df_for_training_scaled[0:training_size,:],df_for_training_scaled[training_size:len(df_for_training_scaled),:7]"
   ]
  },
  {
   "cell_type": "code",
   "execution_count": 34,
   "metadata": {
    "scrolled": true
   },
   "outputs": [
    {
     "name": "stdout",
     "output_type": "stream",
     "text": [
      "(2335, 7) (123, 7)\n"
     ]
    }
   ],
   "source": [
    "print(train_data.shape,test_data.shape)"
   ]
  },
  {
   "cell_type": "code",
   "execution_count": 35,
   "metadata": {
    "scrolled": true
   },
   "outputs": [],
   "source": [
    "#test_data[2]"
   ]
  },
  {
   "cell_type": "code",
   "execution_count": 36,
   "metadata": {
    "scrolled": true
   },
   "outputs": [],
   "source": [
    "n_future = 1\n",
    "n_past = 14"
   ]
  },
  {
   "cell_type": "code",
   "execution_count": 37,
   "metadata": {
    "scrolled": true
   },
   "outputs": [],
   "source": [
    "# SPLITTING THE DATASET INTO X_TRAIN AND Y_TRAIN USING THE PAST 14 DAYS TIMESTEP\n",
    "\n",
    "for i in range(n_past, len(train_data) - n_future +1):\n",
    "    x_train.append(train_data[i - n_past:i, 0:df_for_training.shape[1]])\n",
    "    y_train.append(train_data[i + n_future - 1:i + n_future, 6])"
   ]
  },
  {
   "cell_type": "code",
   "execution_count": 38,
   "metadata": {
    "scrolled": true
   },
   "outputs": [],
   "source": [
    "x_train , y_train = np.array(x_train),np.array(y_train)"
   ]
  },
  {
   "cell_type": "code",
   "execution_count": null,
   "metadata": {
    "scrolled": true
   },
   "outputs": [],
   "source": []
  },
  {
   "cell_type": "code",
   "execution_count": 39,
   "metadata": {
    "scrolled": true
   },
   "outputs": [
    {
     "data": {
      "text/plain": [
       "(2321, 14, 7)"
      ]
     },
     "execution_count": 39,
     "metadata": {},
     "output_type": "execute_result"
    }
   ],
   "source": [
    "x_train.shape"
   ]
  },
  {
   "cell_type": "code",
   "execution_count": 40,
   "metadata": {
    "scrolled": true
   },
   "outputs": [
    {
     "data": {
      "text/plain": [
       "(2321, 1)"
      ]
     },
     "execution_count": 40,
     "metadata": {},
     "output_type": "execute_result"
    }
   ],
   "source": [
    "y_train.shape"
   ]
  },
  {
   "cell_type": "code",
   "execution_count": 41,
   "metadata": {
    "scrolled": true
   },
   "outputs": [],
   "source": [
    "x_test= []\n",
    "y_test = []\n",
    "\n",
    "for i in range(n_past, len(test_data) - n_future +1):\n",
    "    x_test.append(test_data[i - n_past:i, 0:df_for_training.shape[1]])\n",
    "    y_test.append(test_data[i + n_future - 1:i + n_future, 6])"
   ]
  },
  {
   "cell_type": "code",
   "execution_count": 42,
   "metadata": {
    "scrolled": true
   },
   "outputs": [],
   "source": [
    "x_test , y_test = np.array(x_test),np.array(y_test)"
   ]
  },
  {
   "cell_type": "code",
   "execution_count": 43,
   "metadata": {
    "scrolled": true
   },
   "outputs": [
    {
     "name": "stdout",
     "output_type": "stream",
     "text": [
      "(109, 14, 7) (109, 1)\n"
     ]
    }
   ],
   "source": [
    "print(x_test.shape, y_test.shape)"
   ]
  },
  {
   "cell_type": "code",
   "execution_count": 292,
   "metadata": {
    "scrolled": true
   },
   "outputs": [
    {
     "name": "stdout",
     "output_type": "stream",
     "text": [
      "[[ 2.57760409  2.59903761  2.62261716  3.03185695  0.59028549 -0.66811933\n",
      "   2.64688179]\n",
      " [ 2.55955609  2.49448958  2.16402557  2.98190896  0.61199831 -1.71247835\n",
      "   2.15378574]\n",
      " [ 2.17915976  2.17069254  2.09621661  2.93012863  0.64287258 -1.84300314\n",
      "   2.07844969]\n",
      " [ 2.03199913  2.2255734   2.10157366  2.8934243   0.65851744 -1.34375832\n",
      "   2.25335187]\n",
      " [ 2.35950094  2.31324556  2.36942611  2.86689909  0.65159663 -1.03567723\n",
      "   2.36976766]\n",
      " [ 2.45682131  2.53016213  2.49954601  2.85594148  0.59540276 -0.53326616\n",
      "   2.57628035]\n",
      " [ 2.6570153   2.60973937  2.66265405  2.84971783  0.52450605 -0.39607515\n",
      "   2.63629854]\n",
      " [ 2.69838687  2.66736427  2.67731545  2.8502212   0.44424193 -0.18514582\n",
      "   2.73057304]\n",
      " [ 2.73170626  2.68108448  2.49940503  2.83436914  0.39775251 -0.68315525\n",
      "   2.48729747]\n",
      " [ 2.43183177  2.44358759  2.46246959  2.81632566  0.35894363 -0.77479042\n",
      "   2.43939432]\n",
      " [ 2.43460839  2.52096959  2.50969621  2.80251091  0.30512355 -0.66820374\n",
      "   2.48506942]\n",
      " [ 2.52595904  2.46238428  2.5480414   2.79068996  0.25309749 -0.62939575\n",
      "   2.50150131]\n",
      " [ 2.7205998   2.65364406  2.51885958  2.77794049  0.16949168 -0.68163022\n",
      "   2.47629646]\n",
      " [ 2.46584532  2.43823671  2.44865404  2.76488302  0.09635561 -0.71719257\n",
      "   2.4594468 ]]\n"
     ]
    }
   ],
   "source": [
    "print(x_test[0])\n"
   ]
  },
  {
   "cell_type": "markdown",
   "metadata": {},
   "source": [
    "# BUILDING A UNI-DIRECTIONAL LSTM MODEL AND PREDICTING THE STOCK PRICE"
   ]
  },
  {
   "cell_type": "code",
   "execution_count": 106,
   "metadata": {
    "scrolled": true
   },
   "outputs": [],
   "source": [
    "model_unilstm = Sequential()\n",
    "model_unilstm.add(LSTM(60, activation='relu',input_shape=(x_train.shape[1], x_train.shape[2]), return_sequences=True,dropout = 0.2, recurrent_dropout = 0.2))\n",
    "model_unilstm.add(LSTM(60, activation='relu', return_sequences=True,dropout = 0.2, recurrent_dropout = 0.2))\n",
    "model_unilstm.add(LSTM(60,activation = 'relu',return_sequences = False))\n",
    "model_unilstm.add(Dense(64,activation = 'relu'))\n",
    "model_unilstm.add(Dense(1,activation ='relu'))"
   ]
  },
  {
   "cell_type": "code",
   "execution_count": 107,
   "metadata": {},
   "outputs": [
    {
     "name": "stdout",
     "output_type": "stream",
     "text": [
      "Model: \"sequential_4\"\n",
      "_________________________________________________________________\n",
      "Layer (type)                 Output Shape              Param #   \n",
      "=================================================================\n",
      "lstm_10 (LSTM)               (None, 14, 60)            16320     \n",
      "_________________________________________________________________\n",
      "lstm_11 (LSTM)               (None, 14, 60)            29040     \n",
      "_________________________________________________________________\n",
      "lstm_12 (LSTM)               (None, 60)                29040     \n",
      "_________________________________________________________________\n",
      "dense_8 (Dense)              (None, 64)                3904      \n",
      "_________________________________________________________________\n",
      "dense_9 (Dense)              (None, 1)                 65        \n",
      "=================================================================\n",
      "Total params: 78,369\n",
      "Trainable params: 78,369\n",
      "Non-trainable params: 0\n",
      "_________________________________________________________________\n"
     ]
    }
   ],
   "source": [
    "model_unilstm.summary()"
   ]
  },
  {
   "cell_type": "code",
   "execution_count": 108,
   "metadata": {
    "scrolled": true
   },
   "outputs": [],
   "source": [
    "model_unilstm.compile(optimizer = 'adam',loss = 'mse',metrics = ['mae'])"
   ]
  },
  {
   "cell_type": "code",
   "execution_count": 109,
   "metadata": {
    "scrolled": false
   },
   "outputs": [
    {
     "name": "stdout",
     "output_type": "stream",
     "text": [
      "Epoch 1/20\n",
      "73/73 [==============================] - 6s 24ms/step - loss: 0.4025 - mae: 0.5235\n",
      "Epoch 2/20\n",
      "73/73 [==============================] - 2s 23ms/step - loss: 0.2997 - mae: 0.4529\n",
      "Epoch 3/20\n",
      "73/73 [==============================] - 2s 23ms/step - loss: 0.3156 - mae: 0.4540\n",
      "Epoch 4/20\n",
      "73/73 [==============================] - 2s 23ms/step - loss: 0.2932 - mae: 0.4440\n",
      "Epoch 5/20\n",
      "73/73 [==============================] - 2s 23ms/step - loss: 0.2934 - mae: 0.4453\n",
      "Epoch 6/20\n",
      "73/73 [==============================] - 2s 23ms/step - loss: 0.2917 - mae: 0.4426\n",
      "Epoch 7/20\n",
      "73/73 [==============================] - 2s 24ms/step - loss: 0.2900 - mae: 0.4393\n",
      "Epoch 8/20\n",
      "73/73 [==============================] - 2s 24ms/step - loss: 0.2901 - mae: 0.4402\n",
      "Epoch 9/20\n",
      "73/73 [==============================] - 2s 24ms/step - loss: 0.2883 - mae: 0.4373\n",
      "Epoch 10/20\n",
      "73/73 [==============================] - 2s 31ms/step - loss: 0.2886 - mae: 0.4368\n",
      "Epoch 11/20\n",
      "73/73 [==============================] - 2s 32ms/step - loss: 0.2898 - mae: 0.4384\n",
      "Epoch 12/20\n",
      "73/73 [==============================] - 2s 32ms/step - loss: 0.2925 - mae: 0.4410\n",
      "Epoch 13/20\n",
      "73/73 [==============================] - 2s 32ms/step - loss: 0.2884 - mae: 0.4358\n",
      "Epoch 14/20\n",
      "73/73 [==============================] - 2s 31ms/step - loss: 0.2880 - mae: 0.4353\n",
      "Epoch 15/20\n",
      "73/73 [==============================] - 2s 31ms/step - loss: 0.2882 - mae: 0.4356\n",
      "Epoch 16/20\n",
      "73/73 [==============================] - 2s 31ms/step - loss: 0.2881 - mae: 0.4348\n",
      "Epoch 17/20\n",
      "73/73 [==============================] - 2s 31ms/step - loss: 0.2879 - mae: 0.4367\n",
      "Epoch 18/20\n",
      "73/73 [==============================] - 2s 33ms/step - loss: 0.2863 - mae: 0.4327\n",
      "Epoch 19/20\n",
      "73/73 [==============================] - 2s 32ms/step - loss: 0.2866 - mae: 0.4344\n",
      "Epoch 20/20\n",
      "73/73 [==============================] - 2s 31ms/step - loss: 0.2858 - mae: 0.4326\n",
      "Wall time: 45.6 s\n"
     ]
    }
   ],
   "source": [
    "%%time\n",
    "# FITTING THE MODEL FOR TRAINING\n",
    "history = model_unilstm.fit(x_train,y_train , epochs=20, batch_size = 32)"
   ]
  },
  {
   "cell_type": "code",
   "execution_count": 110,
   "metadata": {
    "scrolled": true
   },
   "outputs": [
    {
     "data": {
      "text/plain": [
       "<matplotlib.legend.Legend at 0x1fbdbbba490>"
      ]
     },
     "execution_count": 110,
     "metadata": {},
     "output_type": "execute_result"
    },
    {
     "data": {
      "image/png": "[encoded data removed]",
      "text/plain": [
       "<Figure size 432x288 with 1 Axes>"
      ]
     },
     "metadata": {
      "needs_background": "light"
     },
     "output_type": "display_data"
    }
   ],
   "source": [
    "#CHECKING THE TRAINING LOSS\n",
    "\n",
    "plt.plot(history.history['loss'], label='Training loss')\n",
    "plt.legend()"
   ]
  },
  {
   "cell_type": "code",
   "execution_count": 360,
   "metadata": {
    "scrolled": true
   },
   "outputs": [],
   "source": [
    "train_predict_uni = model_unilstm.predict(x_train)\n",
    "test_predict_uni = model_unilstm.predict(x_test)"
   ]
  },
  {
   "cell_type": "code",
   "execution_count": 389,
   "metadata": {
    "scrolled": true
   },
   "outputs": [],
   "source": [
    "# mean squared error of train and test of Unidirectional LSTM model\n",
    "train_score = mean_squared_error(y_train,train_predict_uni)\n",
    "test_score = mean_squared_error(y_test,test_predict_uni)"
   ]
  },
  {
   "cell_type": "code",
   "execution_count": 390,
   "metadata": {
    "scrolled": true
   },
   "outputs": [
    {
     "name": "stdout",
     "output_type": "stream",
     "text": [
      "0.28326871299620154 0.022603835442257702\n"
     ]
    }
   ],
   "source": [
    "print(train_score,test_score)"
   ]
  },
  {
   "cell_type": "markdown",
   "metadata": {},
   "source": [
    "Checking for the error using mae "
   ]
  },
  {
   "cell_type": "code",
   "execution_count": 361,
   "metadata": {
    "scrolled": true
   },
   "outputs": [],
   "source": [
    "# Root Mean Squared Error of train and test of Unidirectional LSTM model\n",
    "train_score_rmse = math.sqrt(mean_squared_error(y_train,train_predict_uni))\n",
    "test_score_rmse = math.sqrt(mean_squared_error(y_test,test_predict_uni))"
   ]
  },
  {
   "cell_type": "code",
   "execution_count": 362,
   "metadata": {},
   "outputs": [
    {
     "name": "stdout",
     "output_type": "stream",
     "text": [
      "0.5322299437237645 0.15034571973374466\n"
     ]
    }
   ],
   "source": [
    "print(train_score_rmse,test_score_rmse)"
   ]
  },
  {
   "cell_type": "code",
   "execution_count": 363,
   "metadata": {},
   "outputs": [
    {
     "name": "stdout",
     "output_type": "stream",
     "text": [
      "0.42383493773312375\n",
      "0.11882718162745723\n"
     ]
    }
   ],
   "source": [
    "#findind the mean absolute error\n",
    "print(mean_absolute_error(y_train,train_predict_uni))\n",
    "print(mean_absolute_error(y_test,test_predict_uni))"
   ]
  },
  {
   "cell_type": "code",
   "execution_count": 374,
   "metadata": {},
   "outputs": [
    {
     "name": "stdout",
     "output_type": "stream",
     "text": [
      "0.8210624583819113\n",
      "0.5702532863202889\n"
     ]
    }
   ],
   "source": [
    "print(explained_variance_score(y_train,train_predict_uni))\n",
    "print(explained_variance_score(y_test,test_predict_uni))"
   ]
  },
  {
   "cell_type": "code",
   "execution_count": 325,
   "metadata": {
    "scrolled": true
   },
   "outputs": [],
   "source": [
    "# PREDICTING THE Last 20 DAYS STOCK PRICE of the test set\n",
    "\n",
    "\n",
    "next_future=20  #Redefining n_future to extend prediction dates beyond original n_future dates\n",
    "forecast_period_dates = pd.date_range(list(train_dates)[-13], periods=next_future, freq='1d').tolist()"
   ]
  },
  {
   "cell_type": "code",
   "execution_count": 326,
   "metadata": {
    "scrolled": true
   },
   "outputs": [],
   "source": [
    "forecast = model_unilstm.predict(x_test[-next_future:]) #forecast "
   ]
  },
  {
   "cell_type": "code",
   "execution_count": 327,
   "metadata": {
    "scrolled": true
   },
   "outputs": [
    {
     "data": {
      "text/plain": [
       "array([[2.7468903],\n",
       "       [2.7218916],\n",
       "       [2.7110274],\n",
       "       [2.6814084],\n",
       "       [2.6508238],\n",
       "       [2.651786 ],\n",
       "       [2.646942 ],\n",
       "       [2.6175776],\n",
       "       [2.5251718],\n",
       "       [2.489854 ],\n",
       "       [2.47362  ],\n",
       "       [2.4468515],\n",
       "       [2.387375 ],\n",
       "       [2.3526797],\n",
       "       [2.3259778],\n",
       "       [2.302873 ],\n",
       "       [2.327133 ],\n",
       "       [2.390762 ],\n",
       "       [2.441096 ],\n",
       "       [2.4945385]], dtype=float32)"
      ]
     },
     "execution_count": 327,
     "metadata": {},
     "output_type": "execute_result"
    }
   ],
   "source": [
    "forecast"
   ]
  },
  {
   "cell_type": "code",
   "execution_count": 329,
   "metadata": {
    "scrolled": true
   },
   "outputs": [],
   "source": [
    "#Perform inverse transformation to rescale back to original range\n",
    "#Since we used 7 variables for transform, the inverse expects same dimensions\n",
    "#Therefore, let us copy our values 7 times and discard them after inverse transform\n",
    "\n",
    "\n",
    "forecast_copies = np.repeat(forecast, df_for_training.shape[1], axis=-1)\n",
    "y_pred_future = Scaler.inverse_transform(forecast_copies)[:,6]"
   ]
  },
  {
   "cell_type": "code",
   "execution_count": 330,
   "metadata": {
    "scrolled": true
   },
   "outputs": [
    {
     "data": {
      "text/plain": [
       "array([2090.409 , 2081.4329, 2077.532 , 2066.897 , 2055.9155, 2056.261 ,\n",
       "       2054.5215, 2043.9781, 2010.7991, 1998.118 , 1992.289 , 1982.6776,\n",
       "       1961.3221, 1948.8645, 1939.277 , 1930.981 , 1939.6917, 1962.5382,\n",
       "       1980.6111, 1999.7999], dtype=float32)"
      ]
     },
     "execution_count": 330,
     "metadata": {},
     "output_type": "execute_result"
    }
   ],
   "source": [
    "# THESE ARE OUR STOCK PRICES WHICH IS PREDICTED BY ALGORITHM FOR THE NEXT 90 DAYS \n",
    "\n",
    "y_pred_future"
   ]
  },
  {
   "cell_type": "code",
   "execution_count": 331,
   "metadata": {
    "scrolled": true
   },
   "outputs": [],
   "source": [
    "# Convert timestamp to date\n",
    "\n",
    "forecast_dates = []\n",
    "for time_i in forecast_period_dates:\n",
    "    forecast_dates.append(time_i.date())"
   ]
  },
  {
   "cell_type": "code",
   "execution_count": 332,
   "metadata": {
    "scrolled": true
   },
   "outputs": [],
   "source": [
    "df_forecast = pd.DataFrame({'Date':np.array(forecast_dates), 'Close':y_pred_future})\n",
    "df_forecast['Date']=pd.to_datetime(df_forecast['Date'])"
   ]
  },
  {
   "cell_type": "code",
   "execution_count": 333,
   "metadata": {
    "scrolled": true
   },
   "outputs": [
    {
     "data": {
      "text/plain": [
       "(20, 2)"
      ]
     },
     "execution_count": 333,
     "metadata": {},
     "output_type": "execute_result"
    }
   ],
   "source": [
    "df_forecast.shape"
   ]
  },
  {
   "cell_type": "code",
   "execution_count": 334,
   "metadata": {
    "scrolled": true
   },
   "outputs": [
    {
     "name": "stderr",
     "output_type": "stream",
     "text": [
      "<ipython-input-334-91d7ae62dbb3>:2: SettingWithCopyWarning: \n",
      "A value is trying to be set on a copy of a slice from a DataFrame.\n",
      "Try using .loc[row_indexer,col_indexer] = value instead\n",
      "\n",
      "See the caveats in the documentation: https://pandas.pydata.org/pandas-docs/stable/user_guide/indexing.html#returning-a-view-versus-a-copy\n",
      "  original['Date']=pd.to_datetime(original['Date'])\n"
     ]
    }
   ],
   "source": [
    "original = ril_data[['Date', 'Close']]\n",
    "original['Date']=pd.to_datetime(original['Date'])"
   ]
  },
  {
   "cell_type": "code",
   "execution_count": 335,
   "metadata": {
    "scrolled": true
   },
   "outputs": [],
   "source": [
    "original = original.loc[(original['Date'] >= '2020-5-1') & (original['Date'] <= '2021-04-12')]"
   ]
  },
  {
   "cell_type": "code",
   "execution_count": 336,
   "metadata": {
    "scrolled": false
   },
   "outputs": [
    {
     "name": "stderr",
     "output_type": "stream",
     "text": [
      "C:\\Users\\mvcc1\\anaconda3\\lib\\site-packages\\seaborn\\_decorators.py:36: FutureWarning: Pass the following variables as keyword args: x, y. From version 0.12, the only valid positional argument will be `data`, and passing other arguments without an explicit keyword will result in an error or misinterpretation.\n",
      "  warnings.warn(\n",
      "C:\\Users\\mvcc1\\anaconda3\\lib\\site-packages\\seaborn\\_decorators.py:36: FutureWarning: Pass the following variables as keyword args: x, y. From version 0.12, the only valid positional argument will be `data`, and passing other arguments without an explicit keyword will result in an error or misinterpretation.\n",
      "  warnings.warn(\n"
     ]
    },
    {
     "data": {
      "text/plain": [
       "<AxesSubplot:xlabel='Date', ylabel='Close'>"
      ]
     },
     "execution_count": 336,
     "metadata": {},
     "output_type": "execute_result"
    },
    {
     "data": {
      "image/png": "[encoded data removed]",
      "text/plain": [
       "<Figure size 432x288 with 1 Axes>"
      ]
     },
     "metadata": {
      "needs_background": "light"
     },
     "output_type": "display_data"
    }
   ],
   "source": [
    "# PLOTTING THE CLOSING PRICE OF NEXT 20 DAYS with existing closing price of unidirectional LSTM\n",
    "\n",
    "sns.lineplot(original['Date'], original['Close'])\n",
    "sns.lineplot(df_forecast['Date'], df_forecast['Close'])"
   ]
  },
  {
   "cell_type": "markdown",
   "metadata": {},
   "source": [
    "# BUILDING A BI-DIRECTIONAL LSTM MODEL FOR FORECASTING "
   ]
  },
  {
   "cell_type": "code",
   "execution_count": 248,
   "metadata": {
    "scrolled": true
   },
   "outputs": [],
   "source": [
    "def create_BILSTM():\n",
    "    in_seq = Input(shape = (x_train.shape[1], 7))\n",
    "      \n",
    "    x = Bidirectional(LSTM(100, return_sequences=True,dropout = 0.2, recurrent_dropout = 0.2))(in_seq)\n",
    "    x = Bidirectional(LSTM(100, return_sequences=True,dropout = 0.2, recurrent_dropout = 0.2))(x)       \n",
    "    avg_pool = GlobalAveragePooling1D()(x)\n",
    "    max_pool = GlobalMaxPooling1D()(x)\n",
    "    conc = concatenate([avg_pool, max_pool])\n",
    "    conc = Dense(64,activation = 'relu')(conc)\n",
    "    out = Dense(1, activation=\"linear\")(conc)      \n",
    "\n",
    "    model = Model(inputs=in_seq, outputs=out)\n",
    "    model.compile(loss=\"mse\", optimizer=\"adam\", metrics=['mae'])    \n",
    "    return model"
   ]
  },
  {
   "cell_type": "code",
   "execution_count": 249,
   "metadata": {
    "scrolled": true
   },
   "outputs": [],
   "source": [
    "model_bilstm = create_BILSTM()"
   ]
  },
  {
   "cell_type": "code",
   "execution_count": 250,
   "metadata": {
    "scrolled": false
   },
   "outputs": [
    {
     "name": "stdout",
     "output_type": "stream",
     "text": [
      "Model: \"model_3\"\n",
      "__________________________________________________________________________________________________\n",
      "Layer (type)                    Output Shape         Param #     Connected to                     \n",
      "==================================================================================================\n",
      "input_4 (InputLayer)            [(None, 14, 7)]      0                                            \n",
      "__________________________________________________________________________________________________\n",
      "bidirectional_9 (Bidirectional) (None, 14, 200)      86400       input_4[0][0]                    \n",
      "__________________________________________________________________________________________________\n",
      "bidirectional_10 (Bidirectional (None, 14, 200)      240800      bidirectional_9[0][0]            \n",
      "__________________________________________________________________________________________________\n",
      "global_average_pooling1d_3 (Glo (None, 200)          0           bidirectional_10[0][0]           \n",
      "__________________________________________________________________________________________________\n",
      "global_max_pooling1d_3 (GlobalM (None, 200)          0           bidirectional_10[0][0]           \n",
      "__________________________________________________________________________________________________\n",
      "concatenate_3 (Concatenate)     (None, 400)          0           global_average_pooling1d_3[0][0] \n",
      "                                                                 global_max_pooling1d_3[0][0]     \n",
      "__________________________________________________________________________________________________\n",
      "dense_17 (Dense)                (None, 64)           25664       concatenate_3[0][0]              \n",
      "__________________________________________________________________________________________________\n",
      "dense_18 (Dense)                (None, 1)            65          dense_17[0][0]                   \n",
      "==================================================================================================\n",
      "Total params: 352,929\n",
      "Trainable params: 352,929\n",
      "Non-trainable params: 0\n",
      "__________________________________________________________________________________________________\n"
     ]
    }
   ],
   "source": [
    "model_bilstm.summary()"
   ]
  },
  {
   "cell_type": "code",
   "execution_count": 251,
   "metadata": {
    "scrolled": true
   },
   "outputs": [],
   "source": [
    "model_bilstm.compile(optimizer = 'adam',loss = 'mse',metrics = ['mae'])"
   ]
  },
  {
   "cell_type": "code",
   "execution_count": 252,
   "metadata": {
    "scrolled": true
   },
   "outputs": [
    {
     "name": "stdout",
     "output_type": "stream",
     "text": [
      "Epoch 1/20\n",
      "73/73 [==============================] - 17s 114ms/step - loss: 0.0662 - mae: 0.1533\n",
      "Epoch 2/20\n",
      "73/73 [==============================] - 9s 125ms/step - loss: 0.0194 - mae: 0.0890\n",
      "Epoch 3/20\n",
      "73/73 [==============================] - 10s 136ms/step - loss: 0.0178 - mae: 0.0861\n",
      "Epoch 4/20\n",
      "73/73 [==============================] - 10s 136ms/step - loss: 0.0151 - mae: 0.0812\n",
      "Epoch 5/20\n",
      "73/73 [==============================] - 10s 136ms/step - loss: 0.0179 - mae: 0.0860\n",
      "Epoch 6/20\n",
      "73/73 [==============================] - 10s 136ms/step - loss: 0.0169 - mae: 0.0859\n",
      "Epoch 7/20\n",
      "73/73 [==============================] - 10s 136ms/step - loss: 0.0174 - mae: 0.0860\n",
      "Epoch 8/20\n",
      "73/73 [==============================] - 10s 136ms/step - loss: 0.0144 - mae: 0.0757\n",
      "Epoch 9/20\n",
      "73/73 [==============================] - 10s 135ms/step - loss: 0.0125 - mae: 0.0739\n",
      "Epoch 10/20\n",
      "73/73 [==============================] - 10s 136ms/step - loss: 0.0128 - mae: 0.0729\n",
      "Epoch 11/20\n",
      "73/73 [==============================] - 10s 138ms/step - loss: 0.0120 - mae: 0.0726\n",
      "Epoch 12/20\n",
      "73/73 [==============================] - 10s 137ms/step - loss: 0.0119 - mae: 0.0708\n",
      "Epoch 13/20\n",
      "73/73 [==============================] - 10s 137ms/step - loss: 0.0119 - mae: 0.0699\n",
      "Epoch 14/20\n",
      "73/73 [==============================] - 10s 136ms/step - loss: 0.0109 - mae: 0.0696\n",
      "Epoch 15/20\n",
      "73/73 [==============================] - 10s 137ms/step - loss: 0.0113 - mae: 0.0689\n",
      "Epoch 16/20\n",
      "73/73 [==============================] - 10s 136ms/step - loss: 0.0126 - mae: 0.0706\n",
      "Epoch 17/20\n",
      "73/73 [==============================] - 10s 137ms/step - loss: 0.0114 - mae: 0.0705\n",
      "Epoch 18/20\n",
      "73/73 [==============================] - 10s 139ms/step - loss: 0.0102 - mae: 0.0652\n",
      "Epoch 19/20\n",
      "73/73 [==============================] - 10s 136ms/step - loss: 0.0110 - mae: 0.0674\n",
      "Epoch 20/20\n",
      "73/73 [==============================] - 10s 137ms/step - loss: 0.0106 - mae: 0.0698\n",
      "Wall time: 3min 25s\n"
     ]
    }
   ],
   "source": [
    "%%time\n",
    "# fit model\n",
    "history = model_bilstm.fit(x_train,y_train , epochs=20, batch_size=32)"
   ]
  },
  {
   "cell_type": "code",
   "execution_count": 253,
   "metadata": {
    "scrolled": true
   },
   "outputs": [
    {
     "data": {
      "text/plain": [
       "<matplotlib.legend.Legend at 0x1fbdb146df0>"
      ]
     },
     "execution_count": 253,
     "metadata": {},
     "output_type": "execute_result"
    },
    {
     "data": {
      "image/png": "[encoded data removed]",
      "text/plain": [
       "<Figure size 432x288 with 1 Axes>"
      ]
     },
     "metadata": {
      "needs_background": "light"
     },
     "output_type": "display_data"
    }
   ],
   "source": [
    "plt.plot(history.history['loss'], label='Training loss')\n",
    "plt.legend()"
   ]
  },
  {
   "cell_type": "code",
   "execution_count": 391,
   "metadata": {
    "scrolled": true
   },
   "outputs": [],
   "source": [
    "train_predict_bilstm = model_bilstm.predict(x_train)\n",
    "test_predict_bilstm = model_bilstm.predict(x_test)"
   ]
  },
  {
   "cell_type": "code",
   "execution_count": 392,
   "metadata": {
    "scrolled": true
   },
   "outputs": [],
   "source": [
    "train_score = mean_squared_error(y_train,train_predict_bilstm)\n",
    "test_score = mean_squared_error(y_test,test_predict_bilstm)"
   ]
  },
  {
   "cell_type": "code",
   "execution_count": 393,
   "metadata": {
    "scrolled": true
   },
   "outputs": [
    {
     "name": "stdout",
     "output_type": "stream",
     "text": [
      "0.01106882169171196 0.06128707379808184\n"
     ]
    }
   ],
   "source": [
    "print(train_score,test_score)"
   ]
  },
  {
   "cell_type": "code",
   "execution_count": 373,
   "metadata": {},
   "outputs": [
    {
     "name": "stdout",
     "output_type": "stream",
     "text": [
      "0.9844437866785058\n",
      "0.6604361873183728\n"
     ]
    }
   ],
   "source": [
    "print(explained_variance_score(y_train,train_predict_bilstm))\n",
    "print(explained_variance_score(y_test,test_predict_bilstm))"
   ]
  },
  {
   "cell_type": "code",
   "execution_count": 367,
   "metadata": {},
   "outputs": [
    {
     "name": "stdout",
     "output_type": "stream",
     "text": [
      "0.06366270581160335\n",
      "0.21789968502136825\n"
     ]
    }
   ],
   "source": [
    "print(mean_absolute_error(y_train,train_predict_bilstm))\n",
    "print(mean_absolute_error(y_test,test_predict_bilstm))"
   ]
  },
  {
   "cell_type": "code",
   "execution_count": 371,
   "metadata": {},
   "outputs": [
    {
     "name": "stdout",
     "output_type": "stream",
     "text": [
      "0.8027832480618506\n",
      "0.08944944369959917\n"
     ]
    }
   ],
   "source": [
    "print(mean_absolute_percentage_error(y_train,train_predict_bilstm))\n",
    "print(mean_absolute_percentage_error(y_test,test_predict_bilstm))"
   ]
  },
  {
   "cell_type": "code",
   "execution_count": 317,
   "metadata": {
    "scrolled": true
   },
   "outputs": [],
   "source": [
    "#Forecasting...\n",
    "#Start with the last day in training date and predict future...\n",
    "next_future=20  #Redefining n_future to extend prediction dates beyond original n_future dates...\n",
    "forecast_period_dates = pd.date_range(list(train_dates)[-13], periods=next_future, freq='1d').tolist()"
   ]
  },
  {
   "cell_type": "code",
   "execution_count": 318,
   "metadata": {
    "scrolled": true
   },
   "outputs": [],
   "source": [
    "forecast = model_bilstm.predict(x_test[-next_future:])  #forecast "
   ]
  },
  {
   "cell_type": "code",
   "execution_count": null,
   "metadata": {},
   "outputs": [],
   "source": []
  },
  {
   "cell_type": "code",
   "execution_count": 319,
   "metadata": {
    "scrolled": true
   },
   "outputs": [
    {
     "data": {
      "text/plain": [
       "array([[2.822046 ],\n",
       "       [2.792045 ],\n",
       "       [2.790043 ],\n",
       "       [2.747699 ],\n",
       "       [2.714547 ],\n",
       "       [2.721176 ],\n",
       "       [2.7186682],\n",
       "       [2.6876984],\n",
       "       [2.5837083],\n",
       "       [2.552839 ],\n",
       "       [2.5404053],\n",
       "       [2.5138915],\n",
       "       [2.4544575],\n",
       "       [2.4225118],\n",
       "       [2.3999214],\n",
       "       [2.3826096],\n",
       "       [2.4223154],\n",
       "       [2.5087411],\n",
       "       [2.5682707],\n",
       "       [2.6410477]], dtype=float32)"
      ]
     },
     "execution_count": 319,
     "metadata": {},
     "output_type": "execute_result"
    }
   ],
   "source": [
    "forecast"
   ]
  },
  {
   "cell_type": "code",
   "execution_count": 320,
   "metadata": {
    "scrolled": true
   },
   "outputs": [],
   "source": [
    "#Perform inverse transformation to rescale back to original range\n",
    "#Since we used 7 variables for transform, the inverse expects same dimensions\n",
    "#Therefore, let us copy our values 7 times and discard them after inverse transform\n",
    "forecast_copies = np.repeat(forecast, df_for_training.shape[1], axis=-1)\n",
    "y_pred_future = Scaler.inverse_transform(forecast_copies)[:,6]"
   ]
  },
  {
   "cell_type": "code",
   "execution_count": 321,
   "metadata": {
    "scrolled": true
   },
   "outputs": [
    {
     "data": {
      "text/plain": [
       "array([2117.394 , 2106.622 , 2105.9033, 2090.6992, 2078.7957, 2081.1758,\n",
       "       2080.2754, 2069.1555, 2031.817 , 2020.7333, 2016.2688, 2006.7488,\n",
       "       1985.4086, 1973.9382, 1965.8269, 1959.611 , 1973.8677, 2004.8995,\n",
       "       2026.274 , 2052.4053], dtype=float32)"
      ]
     },
     "execution_count": 321,
     "metadata": {},
     "output_type": "execute_result"
    }
   ],
   "source": [
    "y_pred_future"
   ]
  },
  {
   "cell_type": "code",
   "execution_count": 322,
   "metadata": {
    "scrolled": true
   },
   "outputs": [],
   "source": [
    "# Convert timestamp to date\n",
    "forecast_dates = []\n",
    "for time_i in forecast_period_dates:\n",
    "    forecast_dates.append(time_i.date())"
   ]
  },
  {
   "cell_type": "code",
   "execution_count": 323,
   "metadata": {
    "scrolled": true
   },
   "outputs": [],
   "source": [
    "df_forecast = pd.DataFrame({'Date':np.array(forecast_dates), 'Close':y_pred_future})\n",
    "df_forecast['Date']=pd.to_datetime(df_forecast['Date'])"
   ]
  },
  {
   "cell_type": "code",
   "execution_count": 324,
   "metadata": {
    "scrolled": true
   },
   "outputs": [
    {
     "data": {
      "text/plain": [
       "(20, 2)"
      ]
     },
     "execution_count": 324,
     "metadata": {},
     "output_type": "execute_result"
    }
   ],
   "source": [
    "df_forecast.shape"
   ]
  },
  {
   "cell_type": "code",
   "execution_count": 266,
   "metadata": {
    "scrolled": true
   },
   "outputs": [
    {
     "name": "stderr",
     "output_type": "stream",
     "text": [
      "<ipython-input-266-91d7ae62dbb3>:2: SettingWithCopyWarning: \n",
      "A value is trying to be set on a copy of a slice from a DataFrame.\n",
      "Try using .loc[row_indexer,col_indexer] = value instead\n",
      "\n",
      "See the caveats in the documentation: https://pandas.pydata.org/pandas-docs/stable/user_guide/indexing.html#returning-a-view-versus-a-copy\n",
      "  original['Date']=pd.to_datetime(original['Date'])\n"
     ]
    }
   ],
   "source": [
    "original = ril_data[['Date', 'Close']]\n",
    "original['Date']=pd.to_datetime(original['Date'])"
   ]
  },
  {
   "cell_type": "code",
   "execution_count": 267,
   "metadata": {
    "scrolled": true
   },
   "outputs": [],
   "source": [
    "original = original.loc[(original['Date'] >= '2020-5-1') & (original['Date'] <= '2021-04-12')]"
   ]
  },
  {
   "cell_type": "code",
   "execution_count": 268,
   "metadata": {
    "scrolled": true
   },
   "outputs": [
    {
     "name": "stderr",
     "output_type": "stream",
     "text": [
      "C:\\Users\\mvcc1\\anaconda3\\lib\\site-packages\\seaborn\\_decorators.py:36: FutureWarning: Pass the following variables as keyword args: x, y. From version 0.12, the only valid positional argument will be `data`, and passing other arguments without an explicit keyword will result in an error or misinterpretation.\n",
      "  warnings.warn(\n",
      "C:\\Users\\mvcc1\\anaconda3\\lib\\site-packages\\seaborn\\_decorators.py:36: FutureWarning: Pass the following variables as keyword args: x, y. From version 0.12, the only valid positional argument will be `data`, and passing other arguments without an explicit keyword will result in an error or misinterpretation.\n",
      "  warnings.warn(\n"
     ]
    },
    {
     "data": {
      "text/plain": [
       "<AxesSubplot:xlabel='Date', ylabel='Close'>"
      ]
     },
     "execution_count": 268,
     "metadata": {},
     "output_type": "execute_result"
    },
    {
     "data": {
      "image/png": "[encoded data removed]",
      "text/plain": [
       "<Figure size 432x288 with 1 Axes>"
      ]
     },
     "metadata": {
      "needs_background": "light"
     },
     "output_type": "display_data"
    }
   ],
   "source": [
    "sns.lineplot(original['Date'], original['Close'])\n",
    "sns.lineplot(df_forecast['Date'], df_forecast['Close'])"
   ]
  },
  {
   "cell_type": "markdown",
   "metadata": {},
   "source": [
    "# USING GRU (GATED RECURRENT UNIT) FOR STOCK PRICE PREDICTION "
   ]
  },
  {
   "cell_type": "code",
   "execution_count": 274,
   "metadata": {
    "scrolled": true
   },
   "outputs": [],
   "source": [
    "# Create GRU model\n",
    "def create_gru():\n",
    "    model = Sequential()\n",
    "    # Input layer\n",
    "    model.add(GRU (units = 64, return_sequences = True, \n",
    "    input_shape = [x_train.shape[1], x_train.shape[2]]))\n",
    "    model.add(Dropout(0.2)) \n",
    "    model.add(GRU(units = 64,return_sequences = True))\n",
    "    model.add(GRU(units = 64))\n",
    "    model.add(Dropout(0.2))\n",
    "    model.add(Dense(32, activation = 'relu'))\n",
    "    model.add(Dense(units = 1)) \n",
    "    #Compile model\n",
    "    model.compile(optimizer='adam',loss='mse',metrics = ['mae'])\n",
    "    return model"
   ]
  },
  {
   "cell_type": "code",
   "execution_count": 275,
   "metadata": {
    "scrolled": true
   },
   "outputs": [],
   "source": [
    "\n",
    "model_gru = create_gru() "
   ]
  },
  {
   "cell_type": "code",
   "execution_count": 276,
   "metadata": {},
   "outputs": [
    {
     "name": "stdout",
     "output_type": "stream",
     "text": [
      "Model: \"sequential_7\"\n",
      "_________________________________________________________________\n",
      "Layer (type)                 Output Shape              Param #   \n",
      "=================================================================\n",
      "gru_6 (GRU)                  (None, 14, 64)            14016     \n",
      "_________________________________________________________________\n",
      "dropout_2 (Dropout)          (None, 14, 64)            0         \n",
      "_________________________________________________________________\n",
      "gru_7 (GRU)                  (None, 14, 64)            24960     \n",
      "_________________________________________________________________\n",
      "gru_8 (GRU)                  (None, 64)                24960     \n",
      "_________________________________________________________________\n",
      "dropout_3 (Dropout)          (None, 64)                0         \n",
      "_________________________________________________________________\n",
      "dense_19 (Dense)             (None, 32)                2080      \n",
      "_________________________________________________________________\n",
      "dense_20 (Dense)             (None, 1)                 33        \n",
      "=================================================================\n",
      "Total params: 66,049\n",
      "Trainable params: 66,049\n",
      "Non-trainable params: 0\n",
      "_________________________________________________________________\n"
     ]
    }
   ],
   "source": [
    "model_gru.summary()"
   ]
  },
  {
   "cell_type": "code",
   "execution_count": 277,
   "metadata": {
    "scrolled": true
   },
   "outputs": [
    {
     "name": "stdout",
     "output_type": "stream",
     "text": [
      "Epoch 1/20\n",
      "73/73 [==============================] - 7s 29ms/step - loss: 0.0821 - mae: 0.1769\n",
      "Epoch 2/20\n",
      "73/73 [==============================] - 2s 29ms/step - loss: 0.0219 - mae: 0.0998\n",
      "Epoch 3/20\n",
      "73/73 [==============================] - 2s 29ms/step - loss: 0.0196 - mae: 0.0943\n",
      "Epoch 4/20\n",
      "73/73 [==============================] - 2s 29ms/step - loss: 0.0184 - mae: 0.0906\n",
      "Epoch 5/20\n",
      "73/73 [==============================] - 2s 29ms/step - loss: 0.0157 - mae: 0.0832\n",
      "Epoch 6/20\n",
      "73/73 [==============================] - 2s 29ms/step - loss: 0.0151 - mae: 0.0794\n",
      "Epoch 7/20\n",
      "73/73 [==============================] - 2s 29ms/step - loss: 0.0155 - mae: 0.0808\n",
      "Epoch 8/20\n",
      "73/73 [==============================] - 2s 29ms/step - loss: 0.0144 - mae: 0.0801\n",
      "Epoch 9/20\n",
      "73/73 [==============================] - 2s 29ms/step - loss: 0.0141 - mae: 0.0788: 0s - loss: 0.0145 - mae: 0.\n",
      "Epoch 10/20\n",
      "73/73 [==============================] - 2s 31ms/step - loss: 0.0146 - mae: 0.0768\n",
      "Epoch 11/20\n",
      "73/73 [==============================] - 2s 34ms/step - loss: 0.0138 - mae: 0.0746\n",
      "Epoch 12/20\n",
      "73/73 [==============================] - 2s 33ms/step - loss: 0.0133 - mae: 0.0744\n",
      "Epoch 13/20\n",
      "73/73 [==============================] - 2s 34ms/step - loss: 0.0117 - mae: 0.0698: 1s - lo\n",
      "Epoch 14/20\n",
      "73/73 [==============================] - 2s 33ms/step - loss: 0.0134 - mae: 0.0712\n",
      "Epoch 15/20\n",
      "73/73 [==============================] - 2s 33ms/step - loss: 0.0130 - mae: 0.0723\n",
      "Epoch 16/20\n",
      "73/73 [==============================] - 2s 34ms/step - loss: 0.0113 - mae: 0.0686: 0s - loss: 0.0113 - mae: 0.0\n",
      "Epoch 17/20\n",
      "73/73 [==============================] - 2s 34ms/step - loss: 0.0142 - mae: 0.0759\n",
      "Epoch 18/20\n",
      "73/73 [==============================] - 2s 34ms/step - loss: 0.0109 - mae: 0.0662\n",
      "Epoch 19/20\n",
      "73/73 [==============================] - 2s 33ms/step - loss: 0.0138 - mae: 0.0728\n",
      "Epoch 20/20\n",
      "73/73 [==============================] - 2s 33ms/step - loss: 0.0108 - mae: 0.0667\n",
      "Wall time: 50.7 s\n"
     ]
    }
   ],
   "source": [
    "%%time\n",
    "# fit model\n",
    "\n",
    "history_gru = model_gru.fit(x_train,y_train , epochs= 20, batch_size=32)"
   ]
  },
  {
   "cell_type": "code",
   "execution_count": 278,
   "metadata": {
    "scrolled": true
   },
   "outputs": [
    {
     "data": {
      "text/plain": [
       "<matplotlib.legend.Legend at 0x1fc03a10700>"
      ]
     },
     "execution_count": 278,
     "metadata": {},
     "output_type": "execute_result"
    },
    {
     "data": {
      "image/png": "[encoded data removed]",
      "text/plain": [
       "<Figure size 432x288 with 1 Axes>"
      ]
     },
     "metadata": {
      "needs_background": "light"
     },
     "output_type": "display_data"
    }
   ],
   "source": [
    "plt.plot(history_gru.history['loss'], label='Training loss')\n",
    "plt.legend()"
   ]
  },
  {
   "cell_type": "code",
   "execution_count": 375,
   "metadata": {},
   "outputs": [],
   "source": [
    "train_predict_unigru = model_gru.predict(x_train)\n",
    "test_predict_unigru = model_gru.predict(x_test)"
   ]
  },
  {
   "cell_type": "code",
   "execution_count": 377,
   "metadata": {},
   "outputs": [
    {
     "name": "stdout",
     "output_type": "stream",
     "text": [
      "0.0064114899587317175\n",
      "0.011875807272136695\n"
     ]
    }
   ],
   "source": [
    "print(mean_squared_error(y_train,train_predict_unigru))\n",
    "print(mean_squared_error(y_test,test_predict_unigru))"
   ]
  },
  {
   "cell_type": "code",
   "execution_count": 379,
   "metadata": {},
   "outputs": [
    {
     "name": "stdout",
     "output_type": "stream",
     "text": [
      "0.047287372353027296\n",
      "0.0838892825628958\n"
     ]
    }
   ],
   "source": [
    "print(mean_absolute_error(y_train,train_predict_unigru))\n",
    "print(mean_absolute_error(y_test,test_predict_unigru))"
   ]
  },
  {
   "cell_type": "code",
   "execution_count": 381,
   "metadata": {},
   "outputs": [
    {
     "name": "stdout",
     "output_type": "stream",
     "text": [
      "0.9910273412005691\n",
      "0.7397057994642782\n"
     ]
    }
   ],
   "source": [
    "print(explained_variance_score(y_train,train_predict_unigru))\n",
    "print(explained_variance_score(y_test,test_predict_unigru))"
   ]
  },
  {
   "cell_type": "code",
   "execution_count": 337,
   "metadata": {
    "scrolled": true
   },
   "outputs": [],
   "source": [
    "#Forecasting...\n",
    "#Start with the last day in training date and predict future...\n",
    "next_future=20  #Redefining n_future to extend prediction dates beyond original n_future dates...\n",
    "forecast_period_dates = pd.date_range(list(train_dates)[-13], periods=next_future, freq='1d').tolist()"
   ]
  },
  {
   "cell_type": "code",
   "execution_count": 338,
   "metadata": {
    "scrolled": true
   },
   "outputs": [],
   "source": [
    "forecast = model_gru.predict(x_test[-next_future:]) #forecast "
   ]
  },
  {
   "cell_type": "code",
   "execution_count": 339,
   "metadata": {
    "scrolled": true
   },
   "outputs": [
    {
     "data": {
      "text/plain": [
       "array([[2.5682638],\n",
       "       [2.5332017],\n",
       "       [2.5494382],\n",
       "       [2.4977343],\n",
       "       [2.4698064],\n",
       "       [2.50804  ],\n",
       "       [2.5066538],\n",
       "       [2.4607098],\n",
       "       [2.3136938],\n",
       "       [2.3138876],\n",
       "       [2.3183243],\n",
       "       [2.2908142],\n",
       "       [2.2084305],\n",
       "       [2.1976163],\n",
       "       [2.1827416],\n",
       "       [2.1775072],\n",
       "       [2.2555473],\n",
       "       [2.355023 ],\n",
       "       [2.4053543],\n",
       "       [2.4853184]], dtype=float32)"
      ]
     },
     "execution_count": 339,
     "metadata": {},
     "output_type": "execute_result"
    }
   ],
   "source": [
    "forecast"
   ]
  },
  {
   "cell_type": "code",
   "execution_count": 340,
   "metadata": {
    "scrolled": true
   },
   "outputs": [],
   "source": [
    "#Perform inverse transformation to rescale back to original range\n",
    "#Since we used 7 variables for transform, the inverse expects same dimensions\n",
    "#Therefore, let us copy our values 7 times and discard them after inverse transform\n",
    "forecast_copies = np.repeat(forecast, df_for_training.shape[1], axis=-1)\n",
    "y_pred_future = Scaler.inverse_transform(forecast_copies)[:,6]"
   ]
  },
  {
   "cell_type": "code",
   "execution_count": 341,
   "metadata": {
    "scrolled": true
   },
   "outputs": [
    {
     "data": {
      "text/plain": [
       "array([2026.2716, 2013.6823, 2019.5121, 2000.9474, 1990.9197, 2004.6477,\n",
       "       2004.15  , 1987.6534, 1934.8662, 1934.9358, 1936.5289, 1926.6511,\n",
       "       1897.0707, 1893.1877, 1887.8468, 1885.9674, 1913.9883, 1949.7058,\n",
       "       1967.7777, 1996.4894], dtype=float32)"
      ]
     },
     "execution_count": 341,
     "metadata": {},
     "output_type": "execute_result"
    }
   ],
   "source": [
    "y_pred_future"
   ]
  },
  {
   "cell_type": "code",
   "execution_count": 342,
   "metadata": {
    "scrolled": true
   },
   "outputs": [],
   "source": [
    "# Convert timestamp to date\n",
    "forecast_dates = []\n",
    "for time_i in forecast_period_dates:\n",
    "    forecast_dates.append(time_i.date())"
   ]
  },
  {
   "cell_type": "code",
   "execution_count": 343,
   "metadata": {
    "scrolled": true
   },
   "outputs": [],
   "source": [
    "df_forecast = pd.DataFrame({'Date':np.array(forecast_dates), 'Close':y_pred_future})\n",
    "df_forecast['Date']=pd.to_datetime(df_forecast['Date'])"
   ]
  },
  {
   "cell_type": "code",
   "execution_count": 344,
   "metadata": {
    "scrolled": true
   },
   "outputs": [
    {
     "data": {
      "text/plain": [
       "(20, 2)"
      ]
     },
     "execution_count": 344,
     "metadata": {},
     "output_type": "execute_result"
    }
   ],
   "source": [
    "df_forecast.shape"
   ]
  },
  {
   "cell_type": "code",
   "execution_count": 345,
   "metadata": {
    "scrolled": true
   },
   "outputs": [
    {
     "name": "stderr",
     "output_type": "stream",
     "text": [
      "<ipython-input-345-91d7ae62dbb3>:2: SettingWithCopyWarning: \n",
      "A value is trying to be set on a copy of a slice from a DataFrame.\n",
      "Try using .loc[row_indexer,col_indexer] = value instead\n",
      "\n",
      "See the caveats in the documentation: https://pandas.pydata.org/pandas-docs/stable/user_guide/indexing.html#returning-a-view-versus-a-copy\n",
      "  original['Date']=pd.to_datetime(original['Date'])\n"
     ]
    }
   ],
   "source": [
    "original = ril_data[['Date', 'Close']]\n",
    "original['Date']=pd.to_datetime(original['Date'])"
   ]
  },
  {
   "cell_type": "code",
   "execution_count": 347,
   "metadata": {
    "scrolled": true
   },
   "outputs": [],
   "source": [
    "original = original.loc[(original['Date'] >= '2020-5-1') & (original['Date'] <= '2021-04-12')]"
   ]
  },
  {
   "cell_type": "code",
   "execution_count": 348,
   "metadata": {
    "scrolled": false
   },
   "outputs": [
    {
     "name": "stderr",
     "output_type": "stream",
     "text": [
      "C:\\Users\\mvcc1\\anaconda3\\lib\\site-packages\\seaborn\\_decorators.py:36: FutureWarning: Pass the following variables as keyword args: x, y. From version 0.12, the only valid positional argument will be `data`, and passing other arguments without an explicit keyword will result in an error or misinterpretation.\n",
      "  warnings.warn(\n",
      "C:\\Users\\mvcc1\\anaconda3\\lib\\site-packages\\seaborn\\_decorators.py:36: FutureWarning: Pass the following variables as keyword args: x, y. From version 0.12, the only valid positional argument will be `data`, and passing other arguments without an explicit keyword will result in an error or misinterpretation.\n",
      "  warnings.warn(\n"
     ]
    },
    {
     "data": {
      "text/plain": [
       "<AxesSubplot:xlabel='Date', ylabel='Close'>"
      ]
     },
     "execution_count": 348,
     "metadata": {},
     "output_type": "execute_result"
    },
    {
     "data": {
      "image/png": "[encoded data removed]",
      "text/plain": [
       "<Figure size 432x288 with 1 Axes>"
      ]
     },
     "metadata": {
      "needs_background": "light"
     },
     "output_type": "display_data"
    }
   ],
   "source": [
    "sns.lineplot(original['Date'], original['Close'])\n",
    "sns.lineplot(df_forecast['Date'], df_forecast['Close'])"
   ]
  },
  {
   "cell_type": "markdown",
   "metadata": {},
   "source": [
    "# USING THE ADVANCE VARIANT BI-GRU (BIDIRECTIONAL GATED RECCURENT "
   ]
  },
  {
   "cell_type": "code",
   "execution_count": 293,
   "metadata": {
    "scrolled": true
   },
   "outputs": [],
   "source": [
    "def bidirectional_gru():\n",
    "    in_seq = Input(shape = (x_train.shape[1], 7))\n",
    "      \n",
    "    x = Bidirectional(GRU(64, return_sequences=True,dropout = 0.2, recurrent_dropout = 0.2))(in_seq)\n",
    "    x = Bidirectional(GRU(64, return_sequences=True))(x)    \n",
    "    x= Bidirectional(GRU(64,return_sequences = True))(x)\n",
    "          \n",
    "    avg_pool = GlobalAveragePooling1D()(x)\n",
    "    max_pool = GlobalMaxPooling1D()(x)\n",
    "    conc = concatenate([avg_pool, max_pool])\n",
    "    conc = Dense(32, activation=\"relu\")(conc)\n",
    "    out = Dense(1, activation=\"linear\")(conc)      \n",
    "\n",
    "    model = Model(inputs=in_seq, outputs=out)\n",
    "    model.compile(loss=\"mse\", optimizer=\"adam\", metrics=['mae'])    \n",
    "    return model"
   ]
  },
  {
   "cell_type": "code",
   "execution_count": 294,
   "metadata": {
    "scrolled": true
   },
   "outputs": [],
   "source": [
    "model_bigru = bidirectional_gru()"
   ]
  },
  {
   "cell_type": "code",
   "execution_count": 295,
   "metadata": {
    "scrolled": false
   },
   "outputs": [
    {
     "name": "stdout",
     "output_type": "stream",
     "text": [
      "Model: \"model_4\"\n",
      "__________________________________________________________________________________________________\n",
      "Layer (type)                    Output Shape         Param #     Connected to                     \n",
      "==================================================================================================\n",
      "input_5 (InputLayer)            [(None, 14, 7)]      0                                            \n",
      "__________________________________________________________________________________________________\n",
      "bidirectional_11 (Bidirectional (None, 14, 128)      28032       input_5[0][0]                    \n",
      "__________________________________________________________________________________________________\n",
      "bidirectional_12 (Bidirectional (None, 14, 128)      74496       bidirectional_11[0][0]           \n",
      "__________________________________________________________________________________________________\n",
      "bidirectional_13 (Bidirectional (None, 14, 128)      74496       bidirectional_12[0][0]           \n",
      "__________________________________________________________________________________________________\n",
      "global_average_pooling1d_4 (Glo (None, 128)          0           bidirectional_13[0][0]           \n",
      "__________________________________________________________________________________________________\n",
      "global_max_pooling1d_4 (GlobalM (None, 128)          0           bidirectional_13[0][0]           \n",
      "__________________________________________________________________________________________________\n",
      "concatenate_4 (Concatenate)     (None, 256)          0           global_average_pooling1d_4[0][0] \n",
      "                                                                 global_max_pooling1d_4[0][0]     \n",
      "__________________________________________________________________________________________________\n",
      "dense_21 (Dense)                (None, 32)           8224        concatenate_4[0][0]              \n",
      "__________________________________________________________________________________________________\n",
      "dense_22 (Dense)                (None, 1)            33          dense_21[0][0]                   \n",
      "==================================================================================================\n",
      "Total params: 185,281\n",
      "Trainable params: 185,281\n",
      "Non-trainable params: 0\n",
      "__________________________________________________________________________________________________\n"
     ]
    }
   ],
   "source": [
    "model_bigru.summary()"
   ]
  },
  {
   "cell_type": "code",
   "execution_count": 296,
   "metadata": {
    "scrolled": true
   },
   "outputs": [
    {
     "name": "stdout",
     "output_type": "stream",
     "text": [
      "Epoch 1/20\n",
      "73/73 [==============================] - 17s 58ms/step - loss: 0.0632 - mae: 0.1511\n",
      "Epoch 2/20\n",
      "73/73 [==============================] - 4s 54ms/step - loss: 0.0212 - mae: 0.0944\n",
      "Epoch 3/20\n",
      "73/73 [==============================] - 4s 54ms/step - loss: 0.0230 - mae: 0.1041\n",
      "Epoch 4/20\n",
      "73/73 [==============================] - 4s 56ms/step - loss: 0.0179 - mae: 0.0859\n",
      "Epoch 5/20\n",
      "73/73 [==============================] - 4s 57ms/step - loss: 0.0167 - mae: 0.0875\n",
      "Epoch 6/20\n",
      "73/73 [==============================] - 4s 57ms/step - loss: 0.0163 - mae: 0.0853\n",
      "Epoch 7/20\n",
      "73/73 [==============================] - 4s 53ms/step - loss: 0.0151 - mae: 0.0815\n",
      "Epoch 8/20\n",
      "73/73 [==============================] - 4s 53ms/step - loss: 0.0129 - mae: 0.0729\n",
      "Epoch 9/20\n",
      "73/73 [==============================] - 4s 52ms/step - loss: 0.0117 - mae: 0.0699\n",
      "Epoch 10/20\n",
      "73/73 [==============================] - 4s 53ms/step - loss: 0.0130 - mae: 0.0745\n",
      "Epoch 11/20\n",
      "73/73 [==============================] - 4s 56ms/step - loss: 0.0138 - mae: 0.0775\n",
      "Epoch 12/20\n",
      "73/73 [==============================] - 4s 55ms/step - loss: 0.0108 - mae: 0.0692\n",
      "Epoch 13/20\n",
      "73/73 [==============================] - 4s 56ms/step - loss: 0.0114 - mae: 0.0694\n",
      "Epoch 14/20\n",
      "73/73 [==============================] - 4s 55ms/step - loss: 0.0124 - mae: 0.0734\n",
      "Epoch 15/20\n",
      "73/73 [==============================] - 4s 56ms/step - loss: 0.0108 - mae: 0.0688\n",
      "Epoch 16/20\n",
      "73/73 [==============================] - 4s 55ms/step - loss: 0.0108 - mae: 0.0692\n",
      "Epoch 17/20\n",
      "73/73 [==============================] - 4s 54ms/step - loss: 0.0108 - mae: 0.0676\n",
      "Epoch 18/20\n",
      "73/73 [==============================] - 4s 54ms/step - loss: 0.0117 - mae: 0.0695\n",
      "Epoch 19/20\n",
      "73/73 [==============================] - 4s 54ms/step - loss: 0.0121 - mae: 0.0689\n",
      "Epoch 20/20\n",
      "73/73 [==============================] - 4s 54ms/step - loss: 0.0110 - mae: 0.0668\n",
      "Wall time: 1min 32s\n"
     ]
    }
   ],
   "source": [
    "%%time\n",
    "history_bigru = model_bigru.fit(x_train, y_train, epochs = 20, batch_size = 32)"
   ]
  },
  {
   "cell_type": "code",
   "execution_count": 297,
   "metadata": {
    "scrolled": true
   },
   "outputs": [
    {
     "data": {
      "text/plain": [
       "<matplotlib.legend.Legend at 0x1fc21ad7310>"
      ]
     },
     "execution_count": 297,
     "metadata": {},
     "output_type": "execute_result"
    },
    {
     "data": {
      "image/png": "[encoded data removed]",
      "text/plain": [
       "<Figure size 432x288 with 1 Axes>"
      ]
     },
     "metadata": {
      "needs_background": "light"
     },
     "output_type": "display_data"
    }
   ],
   "source": [
    "plt.plot(history_bigru.history['loss'], label='Training loss')\n",
    "plt.legend()"
   ]
  },
  {
   "cell_type": "code",
   "execution_count": 394,
   "metadata": {
    "scrolled": true
   },
   "outputs": [],
   "source": [
    "train_predict_bigru = model_bigru.predict(x_train)\n",
    "test_predict_bigru = model_bigru.predict(x_test)"
   ]
  },
  {
   "cell_type": "code",
   "execution_count": 395,
   "metadata": {
    "scrolled": true
   },
   "outputs": [],
   "source": [
    "train_score = mean_squared_error(y_train,train_predict_bigru)\n",
    "test_score = mean_squared_error(y_test,test_predict_bigru)"
   ]
  },
  {
   "cell_type": "code",
   "execution_count": 396,
   "metadata": {
    "scrolled": true
   },
   "outputs": [
    {
     "name": "stdout",
     "output_type": "stream",
     "text": [
      "0.006773810369655946 0.016409908024064248\n"
     ]
    }
   ],
   "source": [
    "print(train_score,test_score)"
   ]
  },
  {
   "cell_type": "code",
   "execution_count": 397,
   "metadata": {},
   "outputs": [
    {
     "name": "stdout",
     "output_type": "stream",
     "text": [
      "0.04937529006431572\n",
      "0.10000626834608295\n"
     ]
    }
   ],
   "source": [
    "print(mean_absolute_error(y_train,train_predict_bigru))\n",
    "print(mean_absolute_error(y_test,test_predict_bigru))"
   ]
  },
  {
   "cell_type": "code",
   "execution_count": 398,
   "metadata": {},
   "outputs": [
    {
     "name": "stdout",
     "output_type": "stream",
     "text": [
      "0.9906352791707136\n",
      "0.6911161399575595\n"
     ]
    }
   ],
   "source": [
    "print(explained_variance_score(y_train,train_predict_bigru))\n",
    "print(explained_variance_score(y_test,test_predict_bigru))"
   ]
  },
  {
   "cell_type": "code",
   "execution_count": 349,
   "metadata": {
    "scrolled": true
   },
   "outputs": [],
   "source": [
    "#Forecasting...\n",
    "#Start with the last day in training date and predict future...\n",
    "next_future=20  #Redefining n_future to extend prediction dates beyond original n_future dates...\n",
    "forecast_period_dates = pd.date_range(list(train_dates)[-13], periods=next_future, freq='1d').tolist()"
   ]
  },
  {
   "cell_type": "code",
   "execution_count": 350,
   "metadata": {
    "scrolled": true
   },
   "outputs": [],
   "source": [
    "forecast = model_bigru.predict(x_test[-next_future:]) #forecast "
   ]
  },
  {
   "cell_type": "code",
   "execution_count": 351,
   "metadata": {
    "scrolled": true
   },
   "outputs": [
    {
     "data": {
      "text/plain": [
       "array([[2.5225134],\n",
       "       [2.5036502],\n",
       "       [2.5023177],\n",
       "       [2.4663422],\n",
       "       [2.4242237],\n",
       "       [2.4332821],\n",
       "       [2.4414318],\n",
       "       [2.4024758],\n",
       "       [2.2916203],\n",
       "       [2.2389612],\n",
       "       [2.2441115],\n",
       "       [2.2345347],\n",
       "       [2.1764083],\n",
       "       [2.1417243],\n",
       "       [2.1300218],\n",
       "       [2.119206 ],\n",
       "       [2.1752486],\n",
       "       [2.284824 ],\n",
       "       [2.354614 ],\n",
       "       [2.4175391]], dtype=float32)"
      ]
     },
     "execution_count": 351,
     "metadata": {},
     "output_type": "execute_result"
    }
   ],
   "source": [
    "forecast"
   ]
  },
  {
   "cell_type": "code",
   "execution_count": 352,
   "metadata": {
    "scrolled": true
   },
   "outputs": [],
   "source": [
    "#Perform inverse transformation to rescale back to original range\n",
    "#Since we used 7 variables for transform, the inverse expects same dimensions\n",
    "#Therefore, let us copy our values 7 times and discard them after inverse transform\n",
    "forecast_copies = np.repeat(forecast, df_for_training.shape[1], axis=-1)\n",
    "y_pred_future = Scaler.inverse_transform(forecast_copies)[:,6]"
   ]
  },
  {
   "cell_type": "code",
   "execution_count": 353,
   "metadata": {
    "scrolled": true
   },
   "outputs": [
    {
     "data": {
      "text/plain": [
       "array([2009.8446, 2003.0715, 2002.5931, 1989.6759, 1974.5529, 1977.8054,\n",
       "       1980.7316, 1966.7441, 1926.9406, 1908.033 , 1909.8822, 1906.4436,\n",
       "       1885.5728, 1873.1193, 1868.9174, 1865.0338, 1885.1564, 1924.5002,\n",
       "       1949.559 , 1972.1527], dtype=float32)"
      ]
     },
     "execution_count": 353,
     "metadata": {},
     "output_type": "execute_result"
    }
   ],
   "source": [
    "y_pred_future"
   ]
  },
  {
   "cell_type": "code",
   "execution_count": 354,
   "metadata": {
    "scrolled": true
   },
   "outputs": [],
   "source": [
    "# Convert timestamp to date\n",
    "forecast_dates = []\n",
    "for time_i in forecast_period_dates:\n",
    "    forecast_dates.append(time_i.date())"
   ]
  },
  {
   "cell_type": "code",
   "execution_count": 355,
   "metadata": {
    "scrolled": true
   },
   "outputs": [],
   "source": [
    "df_forecast = pd.DataFrame({'Date':np.array(forecast_dates), 'Close':y_pred_future})\n",
    "df_forecast['Date']=pd.to_datetime(df_forecast['Date'])"
   ]
  },
  {
   "cell_type": "code",
   "execution_count": 356,
   "metadata": {
    "scrolled": true
   },
   "outputs": [
    {
     "data": {
      "text/plain": [
       "(20, 2)"
      ]
     },
     "execution_count": 356,
     "metadata": {},
     "output_type": "execute_result"
    }
   ],
   "source": [
    "df_forecast.shape"
   ]
  },
  {
   "cell_type": "code",
   "execution_count": 357,
   "metadata": {
    "scrolled": true
   },
   "outputs": [
    {
     "name": "stderr",
     "output_type": "stream",
     "text": [
      "<ipython-input-357-91d7ae62dbb3>:2: SettingWithCopyWarning: \n",
      "A value is trying to be set on a copy of a slice from a DataFrame.\n",
      "Try using .loc[row_indexer,col_indexer] = value instead\n",
      "\n",
      "See the caveats in the documentation: https://pandas.pydata.org/pandas-docs/stable/user_guide/indexing.html#returning-a-view-versus-a-copy\n",
      "  original['Date']=pd.to_datetime(original['Date'])\n"
     ]
    }
   ],
   "source": [
    "original = ril_data[['Date', 'Close']]\n",
    "original['Date']=pd.to_datetime(original['Date'])"
   ]
  },
  {
   "cell_type": "code",
   "execution_count": 358,
   "metadata": {
    "scrolled": true
   },
   "outputs": [],
   "source": [
    "original = original.loc[(original['Date'] >= '2020-5-1') & (original['Date'] <= '2021-04-12')]"
   ]
  },
  {
   "cell_type": "code",
   "execution_count": 359,
   "metadata": {
    "scrolled": true
   },
   "outputs": [
    {
     "name": "stderr",
     "output_type": "stream",
     "text": [
      "C:\\Users\\mvcc1\\anaconda3\\lib\\site-packages\\seaborn\\_decorators.py:36: FutureWarning: Pass the following variables as keyword args: x, y. From version 0.12, the only valid positional argument will be `data`, and passing other arguments without an explicit keyword will result in an error or misinterpretation.\n",
      "  warnings.warn(\n",
      "C:\\Users\\mvcc1\\anaconda3\\lib\\site-packages\\seaborn\\_decorators.py:36: FutureWarning: Pass the following variables as keyword args: x, y. From version 0.12, the only valid positional argument will be `data`, and passing other arguments without an explicit keyword will result in an error or misinterpretation.\n",
      "  warnings.warn(\n"
     ]
    },
    {
     "data": {
      "text/plain": [
       "<AxesSubplot:xlabel='Date', ylabel='Close'>"
      ]
     },
     "execution_count": 359,
     "metadata": {},
     "output_type": "execute_result"
    },
    {
     "data": {
      "image/png": "[encoded data removed]",
      "text/plain": [
       "<Figure size 432x288 with 1 Axes>"
      ]
     },
     "metadata": {
      "needs_background": "light"
     },
     "output_type": "display_data"
    }
   ],
   "source": [
    "sns.lineplot(original['Date'], original['Close'])\n",
    "sns.lineplot(df_forecast['Date'], df_forecast['Close'])"
   ]
  },
  {
   "cell_type": "code",
   "execution_count": null,
   "metadata": {},
   "outputs": [],
   "source": []
  }
 ],
 "metadata": {
  "kernelspec": {
   "display_name": "Python 3 (ipykernel)",
   "language": "python",
   "name": "python3"
  },
  "language_info": {
   "codemirror_mode": {
    "name": "ipython",
    "version": 3
   },
   "file_extension": ".py",
   "mimetype": "text/x-python",
   "name": "python",
   "nbconvert_exporter": "python",
   "pygments_lexer": "ipython3",
   "version": "3.8.8"
  }
 },
 "nbformat": 4,
 "nbformat_minor": 4
}
